{
 "cells": [
  {
   "cell_type": "markdown",
   "metadata": {},
   "source": [
    "# Worksheet 08\n",
    "\n",
    "Name:  Aryan Agarwal  \n",
    "UID: U36516144\n",
    "\n",
    "### Topics\n",
    "\n",
    "- Soft Clustering\n",
    "- Clustering Aggregation\n",
    "\n",
    "### Probability Review\n",
    "\n",
    "Read through [the following](https://medium.com/@gallettilance/overview-of-probability-3272b72c82c8)\n",
    "\n",
    "### Soft Clustering\n",
    "\n",
    "We generate 10 data points that come from a normal distribution with mean 5 and variance 1."
   ]
  },
  {
   "cell_type": "code",
   "execution_count": 2,
   "metadata": {},
   "outputs": [
    {
     "name": "stdout",
     "output_type": "stream",
     "text": [
      "[4.616596830583689, 4.243162738797952, 5.3400462562431015, 7.5145877180636145, 4.421943624818705, 6.417117246227365, 5.463607852543691, 4.583552736600412, 4.778409469068305, 5.206609911844623]\n"
     ]
    }
   ],
   "source": [
    "import random\n",
    "import numpy as np\n",
    "from sklearn.cluster import KMeans\n",
    "\n",
    "mean = 5\n",
    "stdev = 1\n",
    "\n",
    "c1 = np.random.normal(mean, stdev, 10).tolist()\n",
    "print(c1)"
   ]
  },
  {
   "cell_type": "markdown",
   "metadata": {},
   "source": [
    "a) Generate 10 more data points, this time coming from a normal distribution with mean 8 and variance 1."
   ]
  },
  {
   "cell_type": "code",
   "execution_count": 3,
   "metadata": {},
   "outputs": [
    {
     "name": "stdout",
     "output_type": "stream",
     "text": [
      "[6.69023156520095, 7.5543164543987675, 8.296783985247293, 7.032863944502537, 7.488243945387643, 9.112439085373625, 8.534201613146184, 9.960387653913434, 7.885278372588203, 5.202988860816953]\n"
     ]
    }
   ],
   "source": [
    "mean = 8\n",
    "stdev = 1\n",
    "\n",
    "c2 = np.random.normal(mean , stdev , 10 ).tolist()\n",
    "print(c2)"
   ]
  },
  {
   "cell_type": "markdown",
   "metadata": {},
   "source": [
    "b) Flip a fair coin 10 times. If the coin lands on H, then pick the last data point of `c1` and remove it from `c1`, if T then pick the last data point from `c2` and remove it from `c2`. Add these 10 points to a list called `data`."
   ]
  },
  {
   "cell_type": "code",
   "execution_count": 4,
   "metadata": {},
   "outputs": [
    {
     "name": "stdout",
     "output_type": "stream",
     "text": [
      "[5.202988860816953, 7.885278372588203, 5.206609911844623, 9.960387653913434, 4.778409469068305, 4.583552736600412, 5.463607852543691, 6.417117246227365, 8.534201613146184, 4.421943624818705]\n"
     ]
    }
   ],
   "source": [
    "data = []\n",
    "for i in range(10):\n",
    "    # flip coin\n",
    "    coin_output = random.choice([0, 1])\n",
    "    if coin_output == 0:\n",
    "        p1 = c1.pop()\n",
    "        data.append(p1)\n",
    "    else:\n",
    "        p2 = c2.pop()\n",
    "        data.append(p2)\n",
    "print(data)"
   ]
  },
  {
   "cell_type": "markdown",
   "metadata": {},
   "source": [
    "c) This `data` is a Gaussian Mixture Distribution with 2 mixture components. Over the next few questions we will walk through the GMM algorithm to see if we can uncover the parameters we used to generate this data. First, please list all these parameters of the GMM that created `data` and the values we know they have."
   ]
  },
  {
   "cell_type": "markdown",
   "metadata": {},
   "source": [
    "c1 has mean 5 and stdev 1. c2 has mean 8 and stdev 1"
   ]
  },
  {
   "cell_type": "markdown",
   "metadata": {},
   "source": [
    "d) Let's assume there are two mixture components (note: we could plot the data and make the observation that there are two clusters). The EM algorithm asks us to start with a random `mean_j`, `variance_j`, `P(C_j)` for each component j. One method we could use to find sensible values for these is to apply K means with k=2 here.\n",
    "\n",
    "1. the centroids would be the estimates of the `mean_j`\n",
    "2. the intra-cluster variance could be the estimate of `variance_j`\n",
    "3. the proportion of points in each cluster could be the estimate of `P(C_j)`\n",
    "\n",
    "Go through this process and list the parameter estimates it gives. Are they close or far from the true values?"
   ]
  },
  {
   "cell_type": "code",
   "execution_count": 5,
   "metadata": {},
   "outputs": [
    {
     "name": "stdout",
     "output_type": "stream",
     "text": [
      "[5.202988860816953, 5.206609911844623, 4.778409469068305, 4.583552736600412, 5.463607852543691, 6.417117246227365, 4.421943624818705]\n",
      "[7.885278372588203, 9.960387653913434, 8.534201613146184]\n",
      "P(C_1) = 0.7,  P(C_2) = 0.3\n",
      "mean_1 = 5.153461385988579,  mean_2 = 8.79328921321594\n",
      "var_1 = 0.3855532491908564,  var_2 = 0.7512429471619725\n"
     ]
    }
   ],
   "source": [
    "kmeans = KMeans(2, init='k-means++').fit(X=np.array(data).reshape(-1, 1))\n",
    "\n",
    "c1 = [x[0] for x in filter(lambda x: x[1] == 0, zip(data, kmeans.labels_))]\n",
    "print(c1)\n",
    "c2 = [x[0] for x in filter(lambda x: x[1] == 1, zip(data, kmeans.labels_))]\n",
    "print(c2)\n",
    "\n",
    "prob_c = [ len(c1) / (len(c1) + len(c2)) , len(c2) / (len(c1) + len(c2)) ]\n",
    "mean = [ sum(c1)/len(c1) , sum(c2)/len(c2) ]\n",
    "var = [ sum(map(lambda x : (x - mean[0])**2, c1)) / len(c1) , sum(map(lambda x : (x - mean[1])**2, c2)) / len(c2) ]\n",
    "\n",
    "print(\"P(C_1) = \" + str(prob_c[0]) + \",  P(C_2) = \" + str(prob_c[1]))\n",
    "print(\"mean_1 = \" + str(mean[0]) + \",  mean_2 = \" + str(mean[1]))\n",
    "print(\"var_1 = \" + str(var[0]) + \",  var_2 = \" + str(var[1]))"
   ]
  },
  {
   "cell_type": "markdown",
   "metadata": {},
   "source": [
    "theyre close"
   ]
  },
  {
   "cell_type": "markdown",
   "metadata": {},
   "source": [
    "e) For each data point, compute `P(C_j | X_i)`. Comment on which cluster you think each point belongs to based on the estimated probabilities. How does that compare to the truth?"
   ]
  },
  {
   "cell_type": "code",
   "execution_count": 6,
   "metadata": {},
   "outputs": [
    {
     "name": "stdout",
     "output_type": "stream",
     "text": [
      "point =  5.202988860816953\n",
      "probability of observing that point if it came from cluster 0 =  1.0262246481208213\n",
      "probability of observing that point if it came from cluster 1 =  5.82684668228866e-06\n",
      "point =  7.885278372588203\n",
      "probability of observing that point if it came from cluster 0 =  1.2979630872911604e-11\n",
      "probability of observing that point if it came from cluster 1 =  0.25579891427610507\n",
      "point =  5.206609911844623\n",
      "probability of observing that point if it came from cluster 0 =  1.024942093787123\n",
      "probability of observing that point if it came from cluster 1 =  5.962561849289863e-06\n",
      "point =  9.960387653913434\n",
      "probability of observing that point if it came from cluster 0 =  1.8247123154212912e-34\n",
      "probability of observing that point if it came from cluster 1 =  0.15886803171859218\n",
      "point =  4.778409469068305\n",
      "probability of observing that point if it came from cluster 0 =  0.6446830692254728\n",
      "probability of observing that point if it came from cluster 1 =  3.334511687752693e-07\n",
      "point =  4.583552736600412\n",
      "probability of observing that point if it came from cluster 0 =  0.3470320229554768\n",
      "probability of observing that point if it came from cluster 1 =  8.061249724779139e-08\n",
      "point =  5.463607852543691\n",
      "probability of observing that point if it came from cluster 0 =  0.7487068536414994\n",
      "probability of observing that point if it came from cluster 1 =  2.8796901802772536e-05\n",
      "point =  6.417117246227365\n",
      "probability of observing that point if it came from cluster 0 =  0.004810718027073681\n",
      "probability of observing that point if it came from cluster 1 =  0.003570116826073792\n",
      "point =  8.534201613146184\n",
      "probability of observing that point if it came from cluster 0 =  2.0842544886379517e-17\n",
      "probability of observing that point if it came from cluster 1 =  0.5003822518205325\n",
      "point =  4.421943624818705\n",
      "probability of observing that point if it came from cluster 0 =  0.1710544210439059\n",
      "probability of observing that point if it came from cluster 1 =  2.3595006139828294e-08\n",
      "5.202988860816953\n",
      "Probability of coming from C_1 = 0.9999975666011\n",
      "Probability of coming from C_2 = 2.433398900070773e-06\n",
      "\n",
      "7.885278372588203\n",
      "Probability of coming from C_1 = 1.1839692694649728e-10\n",
      "Probability of coming from C_2 = 0.999999999881603\n",
      "\n",
      "5.206609911844623\n",
      "Probability of coming from C_1 = 0.9999975068081464\n",
      "Probability of coming from C_2 = 2.493191853592365e-06\n",
      "\n",
      "9.960387653913434\n",
      "Probability of coming from C_1 = 2.6799992567781502e-33\n",
      "Probability of coming from C_2 = 1.0\n",
      "\n",
      "4.778409469068305\n",
      "Probability of coming from C_1 = 0.9999997783288892\n",
      "Probability of coming from C_2 = 2.2167111082042823e-07\n",
      "\n",
      "4.583552736600412\n",
      "Probability of coming from C_1 = 0.9999999004466235\n",
      "Probability of coming from C_2 = 9.955337658057416e-08\n",
      "\n",
      "5.463607852543691\n",
      "Probability of coming from C_1 = 0.9999835164779751\n",
      "Probability of coming from C_2 = 1.6483522024875124e-05\n",
      "\n",
      "6.417117246227365\n",
      "Probability of coming from C_1 = 0.7586964157497728\n",
      "Probability of coming from C_2 = 0.24130358425022713\n",
      "\n",
      "8.534201613146184\n",
      "Probability of coming from C_1 = 9.719090666774515e-17\n",
      "Probability of coming from C_2 = 0.9999999999999998\n",
      "\n",
      "4.421943624818705\n",
      "Probability of coming from C_1 = 0.9999999408834637\n",
      "Probability of coming from C_2 = 5.911653629874472e-08\n",
      "\n"
     ]
    }
   ],
   "source": [
    "from scipy.stats import norm\n",
    "\n",
    "prob_c0_x = [] # P(C_0 | X_i)\n",
    "prob_c1_x = [] # P(C_1 | X_i)\n",
    "prob_x = [] # P(X_i)\n",
    "\n",
    "k = 2\n",
    "\n",
    "for p in data:\n",
    "    print(\"point = \", p)\n",
    "    pdf_i = []\n",
    "\n",
    "    for j in range(k):\n",
    "        # P(X_i | C_j)\n",
    "        pdf_i.append(norm.pdf(p, mean[j], var[j]))\n",
    "        print(\"probability of observing that point if it came from cluster \" + str(j) + \" = \", pdf_i[j])\n",
    "        # P(C_j) already computed\n",
    "        prob_c[j]\n",
    "\n",
    "    # P(X_i) = P(C_0)P(X_i | C_0) + P(C_1)P(X_i | C_1)\n",
    "    prob_x = prob_c[0] * pdf_i[0] + prob_c[1] * pdf_i[1]\n",
    "\n",
    "    # P(C_j | X_i) = P(X_i | C_j)P(C_j) / P(X_i)\n",
    "    prob_c0_x.append( pdf_i[0] * prob_c[0] / prob_x )\n",
    "    prob_c1_x.append( pdf_i[1] * prob_c[1] / prob_x )\n",
    "    \n",
    "probs = zip(data, prob_c0_x, prob_c1_x)\n",
    "for p in probs:\n",
    "    print(p[0])\n",
    "    print(\"Probability of coming from C_1 = \" + str(p[1]))\n",
    "    print(\"Probability of coming from C_2 = \" + str(p[2]))\n",
    "    print()\n"
   ]
  },
  {
   "cell_type": "markdown",
   "metadata": {},
   "source": [
    "f) Having computed `P(C_j | X_i)`, update the estimates of `mean_j`, `var_j`, and `P(C_j)`. How different are these values from the original ones you got from K means? briefly comment."
   ]
  },
  {
   "cell_type": "code",
   "execution_count": 7,
   "metadata": {},
   "outputs": [
    {
     "name": "stdout",
     "output_type": "stream",
     "text": [
      "P(C_1) = 0.6758674625414367,  P(C_2) = 0.3241325374585632\n",
      "mean_1 = 5.108344571357386,  mean_2 = 8.6163699356569\n",
      "var_1 = 0.340272885614363,  var_2 = 1.0844246941299014\n"
     ]
    }
   ],
   "source": [
    "prob_c = [sum(prob_c0_x)/ len(prob_c0_x), sum(prob_c1_x)/ len(prob_c1_x) ]\n",
    "mean = [sum([x[0] * x[1] for x in zip(prob_c0_x, data)]) / sum(prob_c0_x), sum([x[0] * x[1] for x in zip(prob_c1_x, data)]) / sum(prob_c1_x)]\n",
    "var = [sum([prob_c0_x[i] * (data[i] - mean[0])**2 for i in range(len(data))]) / sum(prob_c0_x), sum([prob_c1_x[i] * (data[i] - mean[1])**2 for i in range(len(data))]) / sum(prob_c1_x)]\n",
    "\n",
    "print(\"P(C_1) = \" + str(prob_c[0]) + \",  P(C_2) = \" + str(prob_c[1]))\n",
    "print(\"mean_1 = \" + str(mean[0]) + \",  mean_2 = \" + str(mean[1]))\n",
    "print(\"var_1 = \" + str(var[0]) + \",  var_2 = \" + str(var[1]))"
   ]
  },
  {
   "cell_type": "markdown",
   "metadata": {},
   "source": [
    "they arent very different"
   ]
  },
  {
   "cell_type": "markdown",
   "metadata": {},
   "source": [
    "g) Update `P(C_j | X_i)`. Comment on any differences or lack thereof you observe."
   ]
  },
  {
   "cell_type": "code",
   "execution_count": 8,
   "metadata": {},
   "outputs": [
    {
     "name": "stdout",
     "output_type": "stream",
     "text": [
      "5.202988860816953\n",
      "Probability of coming from C_1 = 0.9988974715854985\n",
      "Probability of coming from C_2 = 0.0011025284145014314\n",
      "\n",
      "7.885278372588203\n",
      "Probability of coming from C_1 = 2.8782563087258616e-14\n",
      "Probability of coming from C_2 = 0.9999999999999712\n",
      "\n",
      "5.206609911844623\n",
      "Probability of coming from C_1 = 0.9988824794303655\n",
      "Probability of coming from C_2 = 0.0011175205696346473\n",
      "\n",
      "9.960387653913434\n",
      "Probability of coming from C_1 = 1.0097469691864653e-43\n",
      "Probability of coming from C_2 = 1.0\n",
      "\n",
      "4.778409469068305\n",
      "Probability of coming from C_1 = 0.9995413083669993\n",
      "Probability of coming from C_2 = 0.0004586916330006551\n",
      "\n",
      "4.583552736600412\n",
      "Probability of coming from C_1 = 0.9995094755077322\n",
      "Probability of coming from C_2 = 0.0004905244922678596\n",
      "\n",
      "5.463607852543691\n",
      "Probability of coming from C_1 = 0.9962232656990122\n",
      "Probability of coming from C_2 = 0.0037767343009878457\n",
      "\n",
      "6.417117246227365\n",
      "Probability of coming from C_1 = 0.03087548083398988\n",
      "Probability of coming from C_2 = 0.9691245191660101\n",
      "\n",
      "8.534201613146184\n",
      "Probability of coming from C_1 = 6.49893959980663e-22\n",
      "Probability of coming from C_2 = 1.0\n",
      "\n",
      "4.421943624818705\n",
      "Probability of coming from C_1 = 0.9993511065030091\n",
      "Probability of coming from C_2 = 0.0006488934969909945\n",
      "\n"
     ]
    }
   ],
   "source": [
    "from scipy.stats import norm\n",
    "\n",
    "prob_c0_x = [] # P(C_0 | X_i)\n",
    "prob_c1_x = [] # P(C_1 | X_i)\n",
    "prob_x = [] # P(X_i)\n",
    "\n",
    "\n",
    "for p in data:\n",
    "    pdf_i = [norm.pdf(p, mean[j], var[j]) for j in range(k)]\n",
    "    prob_x = prob_c[0] * pdf_i[0] + prob_c[1] * pdf_i[1]\n",
    "\n",
    "    # P(C_j | X_i) = P(X_i | C_j)P(C_j) / P(X_i)\n",
    "    prob_c0_x.append( pdf_i[0] * prob_c[0] / prob_x )\n",
    "    prob_c1_x.append( pdf_i[1] * prob_c[1] / prob_x )\n",
    "    \n",
    "probs = zip(data, prob_c0_x, prob_c1_x)\n",
    "for p in probs:\n",
    "    print(p[0])\n",
    "    print(\"Probability of coming from C_1 = \" + str(p[1]))\n",
    "    print(\"Probability of coming from C_2 = \" + str(p[2]))\n",
    "    print()\n"
   ]
  },
  {
   "cell_type": "markdown",
   "metadata": {},
   "source": []
  },
  {
   "cell_type": "markdown",
   "metadata": {},
   "source": [
    "h) Use `P(C_j | X_i)` to create a hard assignment - label each point as belonging to a specific cluster (0 or 1)"
   ]
  },
  {
   "cell_type": "code",
   "execution_count": 9,
   "metadata": {},
   "outputs": [
    {
     "name": "stdout",
     "output_type": "stream",
     "text": [
      "[0, 1, 0, 1, 0, 0, 0, 1, 1, 0]\n"
     ]
    }
   ],
   "source": [
    "label = []\n",
    "\n",
    "for i in range(len(data)):\n",
    "    if prob_c0_x[i] < prob_c1_x[i]:\n",
    "        label.append(1)\n",
    "    else:\n",
    "        label.append(0)\n",
    "\n",
    "print(label)"
   ]
  },
  {
   "cell_type": "markdown",
   "metadata": {},
   "source": [
    "### Clustering Aggregation\n",
    "\n",
    "| Point | C | P |\n",
    "|-------|---|---|\n",
    "| A     | 0 | a |\n",
    "| B     | 0 | b |\n",
    "| C     | 2 | b |\n",
    "| D     | 1 | c |\n",
    "| E     | 1 | d |\n",
    "\n",
    "a) Fill in the following table where for each pair of points determine whether C and P agree or disagree on how to cluster that pair."
   ]
  },
  {
   "cell_type": "markdown",
   "metadata": {},
   "source": [
    "| Pair | Disagreement |\n",
    "|------|--------------|\n",
    "| A  B |disagree|\n",
    "| A  C |disagree|\n",
    "| A  D |disagree|\n",
    "| A  E |disagree|\n",
    "| B  C |agree|\n",
    "| B  D |disagree|\n",
    "| B  E |disagree|\n",
    "| C  D |disagree|\n",
    "| C  E |disagree|\n",
    "| D  E |disagree|\n"
   ]
  },
  {
   "cell_type": "markdown",
   "metadata": {},
   "source": [
    "As datasets become very large, this process can become computationally challenging.\n",
    "\n",
    "b) Given N points, what is the formula for the number of unique pairs of points one can create?"
   ]
  },
  {
   "cell_type": "markdown",
   "metadata": {},
   "source": [
    "N!/(2!(N-2)!)"
   ]
  },
  {
   "cell_type": "markdown",
   "metadata": {},
   "source": [
    "Assume that clustering C clusters all points in the same cluster and clustering P clusters points as such:\n",
    "\n",
    "| Point | P |\n",
    "|-------|---|\n",
    "| A     | 0 |\n",
    "| B     | 0 |\n",
    "| C     | 0 |\n",
    "| D     | 1 |\n",
    "| E     | 1 |\n",
    "| F     | 2 |\n",
    "| G     | 2 |\n",
    "| H     | 2 |\n",
    "| I     | 2 |\n",
    "\n",
    "c) What is the maximum number of disagreements there could be for a dataset of this size? (use the formula from b)?"
   ]
  },
  {
   "cell_type": "markdown",
   "metadata": {},
   "source": [
    "36"
   ]
  },
  {
   "cell_type": "markdown",
   "metadata": {},
   "source": [
    "d) If we look at cluster 0. There are (3 x 2) / 2 = 3 pairs that agree with C (since all points in C are in the same cluster). For each cluster, determine how many agreements there are. How many total agreements are there? How many disagreements does that mean there are between C and P?"
   ]
  },
  {
   "cell_type": "markdown",
   "metadata": {},
   "source": [
    "11 agreements, 25 disagree"
   ]
  },
  {
   "cell_type": "markdown",
   "metadata": {},
   "source": [
    "e) Assuming that filtering the dataset by cluster number is a computationally easy operation, describe an algorithm inspired by the above process that can efficiently compute disagreement distances on large datasets."
   ]
  },
  {
   "cell_type": "markdown",
   "metadata": {},
   "source": []
  }
 ],
 "metadata": {
  "interpreter": {
   "hash": "76ca05dc3ea24b2e3b98cdb7774adfbb40773424bf5109b477fd793f623715af"
  },
  "kernelspec": {
   "display_name": "Python 3",
   "language": "python",
   "name": "python3"
  },
  "language_info": {
   "codemirror_mode": {
    "name": "ipython",
    "version": 3
   },
   "file_extension": ".py",
   "mimetype": "text/x-python",
   "name": "python",
   "nbconvert_exporter": "python",
   "pygments_lexer": "ipython3",
   "version": "3.8.3"
  }
 },
 "nbformat": 4,
 "nbformat_minor": 2
}
