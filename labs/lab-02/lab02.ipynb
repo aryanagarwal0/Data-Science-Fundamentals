{
 "cells": [
  {
   "cell_type": "markdown",
   "metadata": {},
   "source": [
    "## Lab 02 - Pandas and Data Visualization\n",
    "This notebook will introduce you to the basics of Pandas and Data Visualization. You will learn how to load data into a Pandas DataFrame, how to perform basic data analysis, and how to visualize data. The first part of this notebook will be an interactive tutorial, and the second part will be practice exercises for you to do! **Note that the practice problems will be checked when submitted!**"
   ]
  },
  {
   "cell_type": "markdown",
   "metadata": {},
   "source": [
    "#### Pandas\n",
    "Pandas is a popular open-source Python library that provides data structures and data analysis tools for working with structured data. Pandas is a versatile library that simplifies data manipulation, analysis, and exploration in Python. Some of its uses:\n",
    "* Tabular Data Handling\n",
    "* Data Cleaning and Transformation\n",
    "* Data Exploration\n",
    "* Data Import/Export\n",
    "* Data Visualization\n",
    "\n",
    "#### Matplotlib\n",
    "Matplotlib is a widely used for creating static, animated, and interactive visualizations. Whether you are conducting data analysis, scientific research, or data communication, Matplotlib helps you present your findings effectively and intuitively."
   ]
  },
  {
   "cell_type": "markdown",
   "metadata": {},
   "source": [
    "### Pre-requisites"
   ]
  },
  {
   "cell_type": "code",
   "execution_count": 1,
   "metadata": {},
   "outputs": [],
   "source": [
    "# In case you don't have pandas, uncomment\n",
    "# the following lines and run the cell\n",
    "\n",
    "# %pip install pandas"
   ]
  },
  {
   "cell_type": "markdown",
   "metadata": {},
   "source": [
    "### Overview\n",
    "In this notebook, you will be learning how to use the Pandas library by working with the `cookies.csv` file. \n",
    "\n",
    "#### `cookies.csv` file :\n",
    "\n",
    "The `cookies.csv` file contains information about cookies that were made in Rico's Bisquito's factory. \n",
    "\n",
    "The columns are the following:\n",
    "\n",
    "`cookie`: the name of a cookie\n",
    "`ingredients`: a list of the cookie's ingredients\n",
    "`calories`: the number of calories the created cookie has\n",
    "`radius`: the radius of the created cookie, in cm\n",
    "`cost_to_make`: the cost it took to make the created cookie, in dollars"
   ]
  },
  {
   "cell_type": "markdown",
   "metadata": {},
   "source": [
    "### Reading the CSV file\n",
    "\n",
    "First, we need to import the Pandas library. We will be using the `pd` alias for the Pandas library."
   ]
  },
  {
   "cell_type": "code",
   "execution_count": 14,
   "metadata": {},
   "outputs": [],
   "source": [
    "#TODO: import pandas and matplotlib in this cell\n",
    "\n",
    "import pandas as pd\n",
    "import matplotlib.pyplot as plt"
   ]
  },
  {
   "cell_type": "markdown",
   "metadata": {},
   "source": [
    "We will now look at the `cookies.csv` file. We will use the `pd.read_csv()` function to read in the CSV file. We will store the data in a variable called `cookies`."
   ]
  },
  {
   "cell_type": "code",
   "execution_count": 15,
   "metadata": {},
   "outputs": [],
   "source": [
    "#TODO: read the cookies.csv file into a pandas dataframe\n",
    "\n",
    "cookies = pd.read_csv(\"cookies.csv\")\n"
   ]
  },
  {
   "cell_type": "markdown",
   "metadata": {},
   "source": [
    "#### Dataframe\n",
    "Dataframes are a data structure that Pandas uses to store data. Dataframes are similar to tables in a database. Dataframes have rows and columns. Each row represents a single data point, and each column represents a feature of the data point."
   ]
  },
  {
   "cell_type": "markdown",
   "metadata": {},
   "source": [
    "We will then make sure we imported the data correctly by printing out the first 10 rows of the data, using the `head()` function."
   ]
  },
  {
   "cell_type": "code",
   "execution_count": 16,
   "metadata": {},
   "outputs": [
    {
     "name": "stdout",
     "output_type": "stream",
     "text": [
      "            cookie                                        ingredients  \\\n",
      "0     laddoo lemon             [\"flour\",\"lemon juice\",\"sugar\",\"ghee\"]   \n",
      "1  red velvet rauw  [\"flour\",\"cocoa powder\",\"butter\",\"red food col...   \n",
      "2         nevadito  [\"flour\",\"chocolate chips\",\"milk\",\"vanilla ext...   \n",
      "3  red velvet rauw  [\"flour\",\"cocoa powder\",\"butter\",\"red food col...   \n",
      "4  bad berry bunny           [\"flour\",\"blueberries\",\"sugar\",\"butter\"]   \n",
      "5     orange ozuna   [\"flour\",\"orange juice\",\"sugar\",\"vegetable oil\"]   \n",
      "6      minty miami          [\"flour\",\"mint extract\",\"sugar\",\"butter\"]   \n",
      "7        chocolate       [\"flour\",\"chocolate chips\",\"sugar\",\"butter\"]   \n",
      "8     laddoo lemon             [\"flour\",\"lemon juice\",\"sugar\",\"ghee\"]   \n",
      "9      minty miami          [\"flour\",\"mint extract\",\"sugar\",\"butter\"]   \n",
      "\n",
      "   calories  radius  cost_to_make  \n",
      "0       170   3.102          0.67  \n",
      "1       198   3.780          1.07  \n",
      "2       224   4.069          1.04  \n",
      "3       198   3.780          1.07  \n",
      "4       191   4.148          1.39  \n",
      "5       162   3.241          1.15  \n",
      "6       204   3.964          0.84  \n",
      "7       243   3.684          1.17  \n",
      "8       178   3.989           NaN  \n",
      "9       184   3.743          0.74  \n"
     ]
    }
   ],
   "source": [
    "#TODO: print the head of the dataframe\n",
    "\n",
    "print(cookies.head(10))"
   ]
  },
  {
   "cell_type": "markdown",
   "metadata": {},
   "source": [
    "### Checking data types\n",
    "You can check the data types of each column using the `dtypes` attribute of the DataFrame."
   ]
  },
  {
   "cell_type": "code",
   "execution_count": 17,
   "metadata": {},
   "outputs": [
    {
     "name": "stdout",
     "output_type": "stream",
     "text": [
      "cookie           object\n",
      "ingredients      object\n",
      "calories          int64\n",
      "radius          float64\n",
      "cost_to_make    float64\n",
      "dtype: object\n"
     ]
    }
   ],
   "source": [
    "#TODO: check the data types of the columns\n",
    "\n",
    "data_types = cookies.dtypes\n",
    "print(data_types)"
   ]
  },
  {
   "cell_type": "markdown",
   "metadata": {},
   "source": [
    "Now, lets use use `info()` function to get more information about the Dataframe"
   ]
  },
  {
   "cell_type": "code",
   "execution_count": 18,
   "metadata": {},
   "outputs": [
    {
     "name": "stdout",
     "output_type": "stream",
     "text": [
      "<class 'pandas.core.frame.DataFrame'>\n",
      "RangeIndex: 129 entries, 0 to 128\n",
      "Data columns (total 5 columns):\n",
      " #   Column        Non-Null Count  Dtype  \n",
      "---  ------        --------------  -----  \n",
      " 0   cookie        129 non-null    object \n",
      " 1   ingredients   129 non-null    object \n",
      " 2   calories      129 non-null    int64  \n",
      " 3   radius        129 non-null    float64\n",
      " 4   cost_to_make  114 non-null    float64\n",
      "dtypes: float64(2), int64(1), object(2)\n",
      "memory usage: 5.2+ KB\n"
     ]
    }
   ],
   "source": [
    "# TODO: use info() to get information about datatypes and null values\n",
    "\n",
    "cookies.info()"
   ]
  },
  {
   "cell_type": "markdown",
   "metadata": {},
   "source": [
    "### Cleaning the data\n",
    "Now that we have the data, we need to clean it. For example, some `cost_to_make` fields of some created cookies are missing. To resolve this, we can do many things: we can replace the missing data with the mean of the column, or we can get rid of the row entirely if the `cost_to_make` field is not set. "
   ]
  },
  {
   "cell_type": "code",
   "execution_count": 34,
   "metadata": {},
   "outputs": [
    {
     "name": "stdout",
     "output_type": "stream",
     "text": [
      "              cookie                                        ingredients  \\\n",
      "0       laddoo_lemon             [\"flour\",\"lemon juice\",\"sugar\",\"ghee\"]   \n",
      "1    red_velvet_rauw  [\"flour\",\"cocoa powder\",\"butter\",\"red food col...   \n",
      "2           nevadito  [\"flour\",\"chocolate chips\",\"milk\",\"vanilla ext...   \n",
      "4                bbb           [\"flour\",\"blueberries\",\"sugar\",\"butter\"]   \n",
      "5       orange_ozuna   [\"flour\",\"orange juice\",\"sugar\",\"vegetable oil\"]   \n",
      "..               ...                                                ...   \n",
      "121        chocolate       [\"flour\",\"chocolate chips\",\"sugar\",\"butter\"]   \n",
      "122     laddoo_lemon             [\"flour\",\"lemon juice\",\"sugar\",\"ghee\"]   \n",
      "125         nevadito  [\"flour\",\"chocolate chips\",\"milk\",\"vanilla ext...   \n",
      "126  red_velvet_rauw  [\"flour\",\"cocoa powder\",\"butter\",\"red food col...   \n",
      "127              bbb           [\"flour\",\"blueberries\",\"sugar\",\"butter\"]   \n",
      "\n",
      "     calories  radius  cost_to_make  \n",
      "0         170   3.102          0.67  \n",
      "1         198   3.780          1.07  \n",
      "2         224   4.069          1.04  \n",
      "4         191   4.148          1.39  \n",
      "5         162   3.241          1.15  \n",
      "..        ...     ...           ...  \n",
      "121       227   4.085          1.42  \n",
      "122       170   3.916          2.00  \n",
      "125       211   3.915          1.61  \n",
      "126       197   3.906          1.33  \n",
      "127       199   4.281          1.36  \n",
      "\n",
      "[103 rows x 5 columns]\n"
     ]
    }
   ],
   "source": [
    "#TODO: clean the dataframe and \n",
    "# print the head again to make sure \n",
    "# the changes took effect\n",
    "\n",
    "cookies.dropna(subset=['cost_to_make'], inplace=True)\n",
    "print(cookies)\n"
   ]
  },
  {
   "cell_type": "markdown",
   "metadata": {},
   "source": [
    "To also make sure we removed null values, we can check the number of null values in each column using the `isnull()` function."
   ]
  },
  {
   "cell_type": "code",
   "execution_count": 20,
   "metadata": {},
   "outputs": [
    {
     "name": "stdout",
     "output_type": "stream",
     "text": [
      "cookie          0\n",
      "ingredients     0\n",
      "calories        0\n",
      "radius          0\n",
      "cost_to_make    0\n",
      "dtype: int64\n"
     ]
    }
   ],
   "source": [
    "#TODO: use the isnull method to make sure your data is clean\n",
    "\n",
    "null_values = cookies.isnull().sum()\n",
    "print(null_values)"
   ]
  },
  {
   "cell_type": "markdown",
   "metadata": {},
   "source": [
    "Next, lets check for duplicate rows using the `duplicated()` function. Then, remove those rows using `drop_duplicates()` function."
   ]
  },
  {
   "cell_type": "code",
   "execution_count": 31,
   "metadata": {},
   "outputs": [
    {
     "name": "stdout",
     "output_type": "stream",
     "text": [
      "Empty DataFrame\n",
      "Columns: [cookie, ingredients, calories, radius, cost_to_make]\n",
      "Index: []\n",
      "\n",
      "Removing Duplicates:\n",
      "              cookie                                        ingredients  \\\n",
      "0       laddoo_lemon             [\"flour\",\"lemon juice\",\"sugar\",\"ghee\"]   \n",
      "1    red_velvet_rauw  [\"flour\",\"cocoa powder\",\"butter\",\"red food col...   \n",
      "2           nevadito  [\"flour\",\"chocolate chips\",\"milk\",\"vanilla ext...   \n",
      "4                bbb           [\"flour\",\"blueberries\",\"sugar\",\"butter\"]   \n",
      "5       orange_ozuna   [\"flour\",\"orange juice\",\"sugar\",\"vegetable oil\"]   \n",
      "..               ...                                                ...   \n",
      "121        chocolate       [\"flour\",\"chocolate chips\",\"sugar\",\"butter\"]   \n",
      "122     laddoo_lemon             [\"flour\",\"lemon juice\",\"sugar\",\"ghee\"]   \n",
      "125         nevadito  [\"flour\",\"chocolate chips\",\"milk\",\"vanilla ext...   \n",
      "126  red_velvet_rauw  [\"flour\",\"cocoa powder\",\"butter\",\"red food col...   \n",
      "127              bbb           [\"flour\",\"blueberries\",\"sugar\",\"butter\"]   \n",
      "\n",
      "     calories  radius  cost_to_make  \n",
      "0         170   3.102          0.67  \n",
      "1         198   3.780          1.07  \n",
      "2         224   4.069          1.04  \n",
      "4         191   4.148          1.39  \n",
      "5         162   3.241          1.15  \n",
      "..        ...     ...           ...  \n",
      "121       227   4.085          1.42  \n",
      "122       170   3.916          2.00  \n",
      "125       211   3.915          1.61  \n",
      "126       197   3.906          1.33  \n",
      "127       199   4.281          1.36  \n",
      "\n",
      "[103 rows x 5 columns]\n"
     ]
    }
   ],
   "source": [
    "# TODO: check for duplicate rows\n",
    "# then delete those rows form df\n",
    "\n",
    "cookies_duplicate = cookies.duplicated()\n",
    "\n",
    "print(cookies[cookies_duplicate])\n",
    "\n",
    "cookies.drop_duplicates(inplace=True)\n",
    "\n",
    "\n",
    "print(\"\")\n",
    "print(\"Removing Duplicates:\")\n",
    "print(cookies)\n"
   ]
  },
  {
   "cell_type": "markdown",
   "metadata": {},
   "source": [
    "### Parsing the data\n",
    "Now that we have the data, we could parse it to get the information we want. For example, we can check what types of cookies were made by using the `unique()` function on the `cookie` column."
   ]
  },
  {
   "cell_type": "code",
   "execution_count": 23,
   "metadata": {},
   "outputs": [
    {
     "name": "stdout",
     "output_type": "stream",
     "text": [
      "['laddoo lemon' 'red velvet rauw' 'nevadito' 'bad berry bunny'\n",
      " 'orange ozuna' 'minty miami' 'chocolate']\n"
     ]
    }
   ],
   "source": [
    "#TODO: see what cookies are in the dataset\n",
    "\n",
    "unique_cookies = cookies['cookie'].unique()\n",
    "\n",
    "print(unique_cookies)"
   ]
  },
  {
   "cell_type": "markdown",
   "metadata": {},
   "source": [
    "We can also check the number of cookies made by using the `value_counts()` function on the `cookie` column."
   ]
  },
  {
   "cell_type": "code",
   "execution_count": 25,
   "metadata": {},
   "outputs": [
    {
     "name": "stdout",
     "output_type": "stream",
     "text": [
      "red velvet rauw    17\n",
      "orange ozuna       16\n",
      "bad berry bunny    15\n",
      "minty miami        15\n",
      "nevadito           15\n",
      "laddoo lemon       13\n",
      "chocolate          12\n",
      "Name: cookie, dtype: int64\n"
     ]
    }
   ],
   "source": [
    "#TODO: use value_counts() to see how many \n",
    "# cookies of each type there are\n",
    "\n",
    "cookie_count = cookies['cookie'].value_counts()\n",
    "print(cookie_count)"
   ]
  },
  {
   "cell_type": "markdown",
   "metadata": {},
   "source": [
    "Or maybe we don't like how long the names of the cookies are, so we can shorten them by using the `replace()` function on the `cookie` column.\n",
    "\n",
    "For example, let's try changing `\"bad berry bunny\"` to `\"bbb\"`."
   ]
  },
  {
   "cell_type": "code",
   "execution_count": 27,
   "metadata": {},
   "outputs": [
    {
     "name": "stdout",
     "output_type": "stream",
     "text": [
      "              cookie                                        ingredients  \\\n",
      "0       laddoo lemon             [\"flour\",\"lemon juice\",\"sugar\",\"ghee\"]   \n",
      "1    red velvet rauw  [\"flour\",\"cocoa powder\",\"butter\",\"red food col...   \n",
      "2           nevadito  [\"flour\",\"chocolate chips\",\"milk\",\"vanilla ext...   \n",
      "4                bbb           [\"flour\",\"blueberries\",\"sugar\",\"butter\"]   \n",
      "5       orange ozuna   [\"flour\",\"orange juice\",\"sugar\",\"vegetable oil\"]   \n",
      "..               ...                                                ...   \n",
      "121        chocolate       [\"flour\",\"chocolate chips\",\"sugar\",\"butter\"]   \n",
      "122     laddoo lemon             [\"flour\",\"lemon juice\",\"sugar\",\"ghee\"]   \n",
      "125         nevadito  [\"flour\",\"chocolate chips\",\"milk\",\"vanilla ext...   \n",
      "126  red velvet rauw  [\"flour\",\"cocoa powder\",\"butter\",\"red food col...   \n",
      "127              bbb           [\"flour\",\"blueberries\",\"sugar\",\"butter\"]   \n",
      "\n",
      "     calories  radius  cost_to_make  \n",
      "0         170   3.102          0.67  \n",
      "1         198   3.780          1.07  \n",
      "2         224   4.069          1.04  \n",
      "4         191   4.148          1.39  \n",
      "5         162   3.241          1.15  \n",
      "..        ...     ...           ...  \n",
      "121       227   4.085          1.42  \n",
      "122       170   3.916          2.00  \n",
      "125       211   3.915          1.61  \n",
      "126       197   3.906          1.33  \n",
      "127       199   4.281          1.36  \n",
      "\n",
      "[103 rows x 5 columns]\n"
     ]
    }
   ],
   "source": [
    "#TODO: change bad berry bunny data elements to \"bbb\"\n",
    "\n",
    "# Replace \"bad berry bunny\" with \"bbb\" in the \"cookie\" column\n",
    "cookies['cookie'] = cookies['cookie'].replace(\"bad berry bunny\", \"bbb\")\n",
    "\n",
    "print(cookies)"
   ]
  },
  {
   "cell_type": "markdown",
   "metadata": {},
   "source": [
    "We may even like the original names better, but we may want to get rid of the spaces. For example, we can change `\"orange ozuna\"` to `\"orange_ozuna\"`. Here, we will use the `str.replace()` function."
   ]
  },
  {
   "cell_type": "code",
   "execution_count": 37,
   "metadata": {},
   "outputs": [
    {
     "name": "stdout",
     "output_type": "stream",
     "text": [
      "              cookie                                        ingredients  \\\n",
      "0       laddoo_lemon             [\"flour\",\"lemon juice\",\"sugar\",\"ghee\"]   \n",
      "1    red_velvet_rauw  [\"flour\",\"cocoa powder\",\"butter\",\"red food col...   \n",
      "2           nevadito  [\"flour\",\"chocolate chips\",\"milk\",\"vanilla ext...   \n",
      "4                bbb           [\"flour\",\"blueberries\",\"sugar\",\"butter\"]   \n",
      "5       orange_ozuna   [\"flour\",\"orange juice\",\"sugar\",\"vegetable oil\"]   \n",
      "..               ...                                                ...   \n",
      "121        chocolate       [\"flour\",\"chocolate chips\",\"sugar\",\"butter\"]   \n",
      "122     laddoo_lemon             [\"flour\",\"lemon juice\",\"sugar\",\"ghee\"]   \n",
      "125         nevadito  [\"flour\",\"chocolate chips\",\"milk\",\"vanilla ext...   \n",
      "126  red_velvet_rauw  [\"flour\",\"cocoa powder\",\"butter\",\"red food col...   \n",
      "127              bbb           [\"flour\",\"blueberries\",\"sugar\",\"butter\"]   \n",
      "\n",
      "     calories  radius  cost_to_make  \n",
      "0         170   3.102          0.67  \n",
      "1         198   3.780          1.07  \n",
      "2         224   4.069          1.04  \n",
      "4         191   4.148          1.39  \n",
      "5         162   3.241          1.15  \n",
      "..        ...     ...           ...  \n",
      "121       227   4.085          1.42  \n",
      "122       170   3.916          2.00  \n",
      "125       211   3.915          1.61  \n",
      "126       197   3.906          1.33  \n",
      "127       199   4.281          1.36  \n",
      "\n",
      "[103 rows x 5 columns]\n"
     ]
    }
   ],
   "source": [
    "#TODO: adjust orange ozuna as described\n",
    "\n",
    "cookies['cookie'] = cookies['cookie'].str.replace(' ', '_')\n",
    "print(cookies)"
   ]
  },
  {
   "cell_type": "markdown",
   "metadata": {},
   "source": [
    "We may even just want to keep the first word of the cookie name. For example, we can change `\"orange_ozuna\"` to `\"orange\"`."
   ]
  },
  {
   "cell_type": "code",
   "execution_count": 35,
   "metadata": {},
   "outputs": [
    {
     "name": "stdout",
     "output_type": "stream",
     "text": [
      "              cookie                                        ingredients  \\\n",
      "0       laddoo_lemon             [\"flour\",\"lemon juice\",\"sugar\",\"ghee\"]   \n",
      "1    red_velvet_rauw  [\"flour\",\"cocoa powder\",\"butter\",\"red food col...   \n",
      "2           nevadito  [\"flour\",\"chocolate chips\",\"milk\",\"vanilla ext...   \n",
      "4                bbb           [\"flour\",\"blueberries\",\"sugar\",\"butter\"]   \n",
      "5       orange_ozuna   [\"flour\",\"orange juice\",\"sugar\",\"vegetable oil\"]   \n",
      "..               ...                                                ...   \n",
      "121        chocolate       [\"flour\",\"chocolate chips\",\"sugar\",\"butter\"]   \n",
      "122     laddoo_lemon             [\"flour\",\"lemon juice\",\"sugar\",\"ghee\"]   \n",
      "125         nevadito  [\"flour\",\"chocolate chips\",\"milk\",\"vanilla ext...   \n",
      "126  red_velvet_rauw  [\"flour\",\"cocoa powder\",\"butter\",\"red food col...   \n",
      "127              bbb           [\"flour\",\"blueberries\",\"sugar\",\"butter\"]   \n",
      "\n",
      "     calories  radius  cost_to_make  \n",
      "0         170   3.102          0.67  \n",
      "1         198   3.780          1.07  \n",
      "2         224   4.069          1.04  \n",
      "4         191   4.148          1.39  \n",
      "5         162   3.241          1.15  \n",
      "..        ...     ...           ...  \n",
      "121       227   4.085          1.42  \n",
      "122       170   3.916          2.00  \n",
      "125       211   3.915          1.61  \n",
      "126       197   3.906          1.33  \n",
      "127       199   4.281          1.36  \n",
      "\n",
      "[103 rows x 5 columns]\n"
     ]
    }
   ],
   "source": [
    "#TODO: adjust all cookies so only the first word\n",
    "# is used as the cookie name\n",
    "\n",
    "cookies['cookie'] = cookies['cookie'].str.split().str[0]\n",
    "print(cookies)"
   ]
  },
  {
   "cell_type": "markdown",
   "metadata": {},
   "source": [
    "Another thing that may come to mind is that maybe getting flour could cost more money due to inflation, so we have to adjust our `cost_to_make` values. We can do this by using the `apply()` function on the `cost_to_make` column."
   ]
  },
  {
   "cell_type": "code",
   "execution_count": 38,
   "metadata": {},
   "outputs": [
    {
     "name": "stdout",
     "output_type": "stream",
     "text": [
      "              cookie                                        ingredients  \\\n",
      "0       laddoo_lemon             [\"flour\",\"lemon juice\",\"sugar\",\"ghee\"]   \n",
      "1    red_velvet_rauw  [\"flour\",\"cocoa powder\",\"butter\",\"red food col...   \n",
      "2           nevadito  [\"flour\",\"chocolate chips\",\"milk\",\"vanilla ext...   \n",
      "4                bbb           [\"flour\",\"blueberries\",\"sugar\",\"butter\"]   \n",
      "5       orange_ozuna   [\"flour\",\"orange juice\",\"sugar\",\"vegetable oil\"]   \n",
      "..               ...                                                ...   \n",
      "121        chocolate       [\"flour\",\"chocolate chips\",\"sugar\",\"butter\"]   \n",
      "122     laddoo_lemon             [\"flour\",\"lemon juice\",\"sugar\",\"ghee\"]   \n",
      "125         nevadito  [\"flour\",\"chocolate chips\",\"milk\",\"vanilla ext...   \n",
      "126  red_velvet_rauw  [\"flour\",\"cocoa powder\",\"butter\",\"red food col...   \n",
      "127              bbb           [\"flour\",\"blueberries\",\"sugar\",\"butter\"]   \n",
      "\n",
      "     calories  radius  cost_to_make  \n",
      "0         170   3.102          1.17  \n",
      "1         198   3.780          1.57  \n",
      "2         224   4.069          1.54  \n",
      "4         191   4.148          1.89  \n",
      "5         162   3.241          1.65  \n",
      "..        ...     ...           ...  \n",
      "121       227   4.085          1.92  \n",
      "122       170   3.916          2.50  \n",
      "125       211   3.915          2.11  \n",
      "126       197   3.906          1.83  \n",
      "127       199   4.281          1.86  \n",
      "\n",
      "[103 rows x 5 columns]\n"
     ]
    }
   ],
   "source": [
    "#Don't edit this method\n",
    "def adjust_cost(cost):\n",
    "    return cost + 0.5\n",
    "\n",
    "#TODO: use apply() to adjust the cost_to_make column.\n",
    "cookies['cost_to_make'] = cookies['cost_to_make'].apply(adjust_cost)\n",
    "print(cookies)"
   ]
  },
  {
   "cell_type": "markdown",
   "metadata": {},
   "source": [
    "And we can do a lot more things! We will see these concepts be used in the next homework assignment, along with a couple new ones to show you how powerful Pandas is."
   ]
  },
  {
   "cell_type": "markdown",
   "metadata": {},
   "source": [
    "### More complicated operations: Grouping, Filtering, Aggregating"
   ]
  },
  {
   "cell_type": "markdown",
   "metadata": {},
   "source": [
    "Before trying out these complicated operations, lets first sort the sort the df by the radius of the cookies using the `sort_values()` function."
   ]
  },
  {
   "cell_type": "code",
   "execution_count": 39,
   "metadata": {},
   "outputs": [
    {
     "name": "stdout",
     "output_type": "stream",
     "text": [
      "              cookie                                        ingredients  \\\n",
      "110  red_velvet_rauw  [\"flour\",\"cocoa powder\",\"butter\",\"red food col...   \n",
      "30   red_velvet_rauw  [\"flour\",\"cocoa powder\",\"butter\",\"red food col...   \n",
      "60      orange_ozuna   [\"flour\",\"orange juice\",\"sugar\",\"vegetable oil\"]   \n",
      "49      laddoo_lemon             [\"flour\",\"lemon juice\",\"sugar\",\"ghee\"]   \n",
      "101     laddoo_lemon             [\"flour\",\"lemon juice\",\"sugar\",\"ghee\"]   \n",
      "..               ...                                                ...   \n",
      "93       minty_miami          [\"flour\",\"mint extract\",\"sugar\",\"butter\"]   \n",
      "0       laddoo_lemon             [\"flour\",\"lemon juice\",\"sugar\",\"ghee\"]   \n",
      "22               bbb           [\"flour\",\"blueberries\",\"sugar\",\"butter\"]   \n",
      "32       minty_miami          [\"flour\",\"mint extract\",\"sugar\",\"butter\"]   \n",
      "78      orange_ozuna   [\"flour\",\"orange juice\",\"sugar\",\"vegetable oil\"]   \n",
      "\n",
      "     calories  radius  cost_to_make  \n",
      "110       198   4.930          1.55  \n",
      "30        204   4.667          1.90  \n",
      "60        186   4.573          1.56  \n",
      "49        195   4.562          1.12  \n",
      "101       178   4.519          1.91  \n",
      "..        ...     ...           ...  \n",
      "93        198   3.128          1.09  \n",
      "0         170   3.102          1.17  \n",
      "22        184   2.982          2.51  \n",
      "32        178   2.952          1.34  \n",
      "78        166   1.695          1.32  \n",
      "\n",
      "[103 rows x 5 columns]\n"
     ]
    }
   ],
   "source": [
    "# TODO: sort the df using sort_values(by='Column', ascending=False)\n",
    "cookies = cookies.sort_values(by='radius', ascending=False)\n",
    "print(cookies)"
   ]
  },
  {
   "cell_type": "markdown",
   "metadata": {},
   "source": [
    "We may also want to group data by certain attributes. This can be done by using `groupby()`. This method takes in a column name, and groups the data by the values in that column. For example, we can group the data by the `cookie` column."
   ]
  },
  {
   "cell_type": "code",
   "execution_count": 44,
   "metadata": {},
   "outputs": [
    {
     "data": {
      "text/html": [
       "<div>\n",
       "<style scoped>\n",
       "    .dataframe tbody tr th:only-of-type {\n",
       "        vertical-align: middle;\n",
       "    }\n",
       "\n",
       "    .dataframe tbody tr th {\n",
       "        vertical-align: top;\n",
       "    }\n",
       "\n",
       "    .dataframe thead tr th {\n",
       "        text-align: left;\n",
       "    }\n",
       "\n",
       "    .dataframe thead tr:last-of-type th {\n",
       "        text-align: right;\n",
       "    }\n",
       "</style>\n",
       "<table border=\"1\" class=\"dataframe\">\n",
       "  <thead>\n",
       "    <tr>\n",
       "      <th></th>\n",
       "      <th colspan=\"8\" halign=\"left\">calories</th>\n",
       "      <th colspan=\"5\" halign=\"left\">radius</th>\n",
       "      <th colspan=\"8\" halign=\"left\">cost_to_make</th>\n",
       "    </tr>\n",
       "    <tr>\n",
       "      <th></th>\n",
       "      <th>count</th>\n",
       "      <th>mean</th>\n",
       "      <th>std</th>\n",
       "      <th>min</th>\n",
       "      <th>25%</th>\n",
       "      <th>50%</th>\n",
       "      <th>75%</th>\n",
       "      <th>max</th>\n",
       "      <th>count</th>\n",
       "      <th>mean</th>\n",
       "      <th>...</th>\n",
       "      <th>75%</th>\n",
       "      <th>max</th>\n",
       "      <th>count</th>\n",
       "      <th>mean</th>\n",
       "      <th>std</th>\n",
       "      <th>min</th>\n",
       "      <th>25%</th>\n",
       "      <th>50%</th>\n",
       "      <th>75%</th>\n",
       "      <th>max</th>\n",
       "    </tr>\n",
       "    <tr>\n",
       "      <th>cookie</th>\n",
       "      <th></th>\n",
       "      <th></th>\n",
       "      <th></th>\n",
       "      <th></th>\n",
       "      <th></th>\n",
       "      <th></th>\n",
       "      <th></th>\n",
       "      <th></th>\n",
       "      <th></th>\n",
       "      <th></th>\n",
       "      <th></th>\n",
       "      <th></th>\n",
       "      <th></th>\n",
       "      <th></th>\n",
       "      <th></th>\n",
       "      <th></th>\n",
       "      <th></th>\n",
       "      <th></th>\n",
       "      <th></th>\n",
       "      <th></th>\n",
       "      <th></th>\n",
       "    </tr>\n",
       "  </thead>\n",
       "  <tbody>\n",
       "    <tr>\n",
       "      <th>bbb</th>\n",
       "      <td>15.0</td>\n",
       "      <td>188.466667</td>\n",
       "      <td>12.158869</td>\n",
       "      <td>171.0</td>\n",
       "      <td>182.50</td>\n",
       "      <td>185.0</td>\n",
       "      <td>196.00</td>\n",
       "      <td>213.0</td>\n",
       "      <td>15.0</td>\n",
       "      <td>3.914867</td>\n",
       "      <td>...</td>\n",
       "      <td>4.06700</td>\n",
       "      <td>4.281</td>\n",
       "      <td>15.0</td>\n",
       "      <td>1.652667</td>\n",
       "      <td>0.372203</td>\n",
       "      <td>1.17</td>\n",
       "      <td>1.3700</td>\n",
       "      <td>1.590</td>\n",
       "      <td>1.8750</td>\n",
       "      <td>2.51</td>\n",
       "    </tr>\n",
       "    <tr>\n",
       "      <th>chocolate</th>\n",
       "      <td>12.0</td>\n",
       "      <td>221.416667</td>\n",
       "      <td>16.256234</td>\n",
       "      <td>197.0</td>\n",
       "      <td>208.25</td>\n",
       "      <td>224.0</td>\n",
       "      <td>231.75</td>\n",
       "      <td>243.0</td>\n",
       "      <td>12.0</td>\n",
       "      <td>4.062833</td>\n",
       "      <td>...</td>\n",
       "      <td>4.24475</td>\n",
       "      <td>4.474</td>\n",
       "      <td>12.0</td>\n",
       "      <td>1.710833</td>\n",
       "      <td>0.240849</td>\n",
       "      <td>1.36</td>\n",
       "      <td>1.5975</td>\n",
       "      <td>1.660</td>\n",
       "      <td>1.8600</td>\n",
       "      <td>2.17</td>\n",
       "    </tr>\n",
       "    <tr>\n",
       "      <th>laddoo_lemon</th>\n",
       "      <td>13.0</td>\n",
       "      <td>174.384615</td>\n",
       "      <td>10.851563</td>\n",
       "      <td>161.0</td>\n",
       "      <td>167.00</td>\n",
       "      <td>170.0</td>\n",
       "      <td>180.00</td>\n",
       "      <td>195.0</td>\n",
       "      <td>13.0</td>\n",
       "      <td>3.849000</td>\n",
       "      <td>...</td>\n",
       "      <td>4.12300</td>\n",
       "      <td>4.562</td>\n",
       "      <td>13.0</td>\n",
       "      <td>1.803077</td>\n",
       "      <td>0.580465</td>\n",
       "      <td>1.12</td>\n",
       "      <td>1.2200</td>\n",
       "      <td>1.770</td>\n",
       "      <td>2.3600</td>\n",
       "      <td>2.77</td>\n",
       "    </tr>\n",
       "    <tr>\n",
       "      <th>minty_miami</th>\n",
       "      <td>15.0</td>\n",
       "      <td>186.266667</td>\n",
       "      <td>12.617826</td>\n",
       "      <td>168.0</td>\n",
       "      <td>178.00</td>\n",
       "      <td>183.0</td>\n",
       "      <td>196.00</td>\n",
       "      <td>209.0</td>\n",
       "      <td>15.0</td>\n",
       "      <td>3.714467</td>\n",
       "      <td>...</td>\n",
       "      <td>3.96400</td>\n",
       "      <td>4.388</td>\n",
       "      <td>15.0</td>\n",
       "      <td>1.438000</td>\n",
       "      <td>0.292384</td>\n",
       "      <td>1.09</td>\n",
       "      <td>1.2450</td>\n",
       "      <td>1.340</td>\n",
       "      <td>1.5900</td>\n",
       "      <td>2.15</td>\n",
       "    </tr>\n",
       "    <tr>\n",
       "      <th>nevadito</th>\n",
       "      <td>15.0</td>\n",
       "      <td>222.400000</td>\n",
       "      <td>14.544513</td>\n",
       "      <td>205.0</td>\n",
       "      <td>211.00</td>\n",
       "      <td>219.0</td>\n",
       "      <td>229.50</td>\n",
       "      <td>253.0</td>\n",
       "      <td>15.0</td>\n",
       "      <td>3.959000</td>\n",
       "      <td>...</td>\n",
       "      <td>4.10500</td>\n",
       "      <td>4.346</td>\n",
       "      <td>15.0</td>\n",
       "      <td>1.864667</td>\n",
       "      <td>0.336831</td>\n",
       "      <td>1.46</td>\n",
       "      <td>1.6450</td>\n",
       "      <td>1.780</td>\n",
       "      <td>2.0150</td>\n",
       "      <td>2.71</td>\n",
       "    </tr>\n",
       "    <tr>\n",
       "      <th>orange_ozuna</th>\n",
       "      <td>16.0</td>\n",
       "      <td>167.250000</td>\n",
       "      <td>13.428825</td>\n",
       "      <td>153.0</td>\n",
       "      <td>158.00</td>\n",
       "      <td>161.5</td>\n",
       "      <td>179.25</td>\n",
       "      <td>198.0</td>\n",
       "      <td>16.0</td>\n",
       "      <td>3.506125</td>\n",
       "      <td>...</td>\n",
       "      <td>3.77225</td>\n",
       "      <td>4.573</td>\n",
       "      <td>16.0</td>\n",
       "      <td>1.716250</td>\n",
       "      <td>0.424152</td>\n",
       "      <td>1.10</td>\n",
       "      <td>1.4550</td>\n",
       "      <td>1.665</td>\n",
       "      <td>2.0175</td>\n",
       "      <td>2.59</td>\n",
       "    </tr>\n",
       "    <tr>\n",
       "      <th>red_velvet_rauw</th>\n",
       "      <td>17.0</td>\n",
       "      <td>200.176471</td>\n",
       "      <td>6.207206</td>\n",
       "      <td>191.0</td>\n",
       "      <td>196.00</td>\n",
       "      <td>198.0</td>\n",
       "      <td>204.00</td>\n",
       "      <td>211.0</td>\n",
       "      <td>17.0</td>\n",
       "      <td>4.106471</td>\n",
       "      <td>...</td>\n",
       "      <td>4.31900</td>\n",
       "      <td>4.930</td>\n",
       "      <td>17.0</td>\n",
       "      <td>1.671765</td>\n",
       "      <td>0.336364</td>\n",
       "      <td>1.23</td>\n",
       "      <td>1.4100</td>\n",
       "      <td>1.660</td>\n",
       "      <td>1.8300</td>\n",
       "      <td>2.44</td>\n",
       "    </tr>\n",
       "  </tbody>\n",
       "</table>\n",
       "<p>7 rows × 24 columns</p>\n",
       "</div>"
      ],
      "text/plain": [
       "                calories                                                       \\\n",
       "                   count        mean        std    min     25%    50%     75%   \n",
       "cookie                                                                          \n",
       "bbb                 15.0  188.466667  12.158869  171.0  182.50  185.0  196.00   \n",
       "chocolate           12.0  221.416667  16.256234  197.0  208.25  224.0  231.75   \n",
       "laddoo_lemon        13.0  174.384615  10.851563  161.0  167.00  170.0  180.00   \n",
       "minty_miami         15.0  186.266667  12.617826  168.0  178.00  183.0  196.00   \n",
       "nevadito            15.0  222.400000  14.544513  205.0  211.00  219.0  229.50   \n",
       "orange_ozuna        16.0  167.250000  13.428825  153.0  158.00  161.5  179.25   \n",
       "red_velvet_rauw     17.0  200.176471   6.207206  191.0  196.00  198.0  204.00   \n",
       "\n",
       "                       radius            ...                 cost_to_make  \\\n",
       "                   max  count      mean  ...      75%    max        count   \n",
       "cookie                                   ...                                \n",
       "bbb              213.0   15.0  3.914867  ...  4.06700  4.281         15.0   \n",
       "chocolate        243.0   12.0  4.062833  ...  4.24475  4.474         12.0   \n",
       "laddoo_lemon     195.0   13.0  3.849000  ...  4.12300  4.562         13.0   \n",
       "minty_miami      209.0   15.0  3.714467  ...  3.96400  4.388         15.0   \n",
       "nevadito         253.0   15.0  3.959000  ...  4.10500  4.346         15.0   \n",
       "orange_ozuna     198.0   16.0  3.506125  ...  3.77225  4.573         16.0   \n",
       "red_velvet_rauw  211.0   17.0  4.106471  ...  4.31900  4.930         17.0   \n",
       "\n",
       "                                                                        \n",
       "                     mean       std   min     25%    50%     75%   max  \n",
       "cookie                                                                  \n",
       "bbb              1.652667  0.372203  1.17  1.3700  1.590  1.8750  2.51  \n",
       "chocolate        1.710833  0.240849  1.36  1.5975  1.660  1.8600  2.17  \n",
       "laddoo_lemon     1.803077  0.580465  1.12  1.2200  1.770  2.3600  2.77  \n",
       "minty_miami      1.438000  0.292384  1.09  1.2450  1.340  1.5900  2.15  \n",
       "nevadito         1.864667  0.336831  1.46  1.6450  1.780  2.0150  2.71  \n",
       "orange_ozuna     1.716250  0.424152  1.10  1.4550  1.665  2.0175  2.59  \n",
       "red_velvet_rauw  1.671765  0.336364  1.23  1.4100  1.660  1.8300  2.44  \n",
       "\n",
       "[7 rows x 24 columns]"
      ]
     },
     "execution_count": 44,
     "metadata": {},
     "output_type": "execute_result"
    }
   ],
   "source": [
    "#TODO: group by cookie type\n",
    "\n",
    "group_cookies = cookies.groupby('cookie')\n",
    "group_cookies.describe()"
   ]
  },
  {
   "cell_type": "markdown",
   "metadata": {},
   "source": [
    "We can also group by multiple columns. For example, we can group the data by the `cookie` and `ingredients` columns."
   ]
  },
  {
   "cell_type": "code",
   "execution_count": 45,
   "metadata": {},
   "outputs": [
    {
     "data": {
      "text/html": [
       "<div>\n",
       "<style scoped>\n",
       "    .dataframe tbody tr th:only-of-type {\n",
       "        vertical-align: middle;\n",
       "    }\n",
       "\n",
       "    .dataframe tbody tr th {\n",
       "        vertical-align: top;\n",
       "    }\n",
       "\n",
       "    .dataframe thead tr th {\n",
       "        text-align: left;\n",
       "    }\n",
       "\n",
       "    .dataframe thead tr:last-of-type th {\n",
       "        text-align: right;\n",
       "    }\n",
       "</style>\n",
       "<table border=\"1\" class=\"dataframe\">\n",
       "  <thead>\n",
       "    <tr>\n",
       "      <th></th>\n",
       "      <th></th>\n",
       "      <th colspan=\"8\" halign=\"left\">calories</th>\n",
       "      <th colspan=\"5\" halign=\"left\">radius</th>\n",
       "      <th colspan=\"8\" halign=\"left\">cost_to_make</th>\n",
       "    </tr>\n",
       "    <tr>\n",
       "      <th></th>\n",
       "      <th></th>\n",
       "      <th>count</th>\n",
       "      <th>mean</th>\n",
       "      <th>std</th>\n",
       "      <th>min</th>\n",
       "      <th>25%</th>\n",
       "      <th>50%</th>\n",
       "      <th>75%</th>\n",
       "      <th>max</th>\n",
       "      <th>count</th>\n",
       "      <th>mean</th>\n",
       "      <th>...</th>\n",
       "      <th>75%</th>\n",
       "      <th>max</th>\n",
       "      <th>count</th>\n",
       "      <th>mean</th>\n",
       "      <th>std</th>\n",
       "      <th>min</th>\n",
       "      <th>25%</th>\n",
       "      <th>50%</th>\n",
       "      <th>75%</th>\n",
       "      <th>max</th>\n",
       "    </tr>\n",
       "    <tr>\n",
       "      <th>cookie</th>\n",
       "      <th>ingredients</th>\n",
       "      <th></th>\n",
       "      <th></th>\n",
       "      <th></th>\n",
       "      <th></th>\n",
       "      <th></th>\n",
       "      <th></th>\n",
       "      <th></th>\n",
       "      <th></th>\n",
       "      <th></th>\n",
       "      <th></th>\n",
       "      <th></th>\n",
       "      <th></th>\n",
       "      <th></th>\n",
       "      <th></th>\n",
       "      <th></th>\n",
       "      <th></th>\n",
       "      <th></th>\n",
       "      <th></th>\n",
       "      <th></th>\n",
       "      <th></th>\n",
       "      <th></th>\n",
       "    </tr>\n",
       "  </thead>\n",
       "  <tbody>\n",
       "    <tr>\n",
       "      <th>bbb</th>\n",
       "      <th>[\"flour\",\"blueberries\",\"sugar\",\"butter\"]</th>\n",
       "      <td>15.0</td>\n",
       "      <td>188.466667</td>\n",
       "      <td>12.158869</td>\n",
       "      <td>171.0</td>\n",
       "      <td>182.50</td>\n",
       "      <td>185.0</td>\n",
       "      <td>196.00</td>\n",
       "      <td>213.0</td>\n",
       "      <td>15.0</td>\n",
       "      <td>3.914867</td>\n",
       "      <td>...</td>\n",
       "      <td>4.06700</td>\n",
       "      <td>4.281</td>\n",
       "      <td>15.0</td>\n",
       "      <td>1.652667</td>\n",
       "      <td>0.372203</td>\n",
       "      <td>1.17</td>\n",
       "      <td>1.3700</td>\n",
       "      <td>1.590</td>\n",
       "      <td>1.8750</td>\n",
       "      <td>2.51</td>\n",
       "    </tr>\n",
       "    <tr>\n",
       "      <th>chocolate</th>\n",
       "      <th>[\"flour\",\"chocolate chips\",\"sugar\",\"butter\"]</th>\n",
       "      <td>12.0</td>\n",
       "      <td>221.416667</td>\n",
       "      <td>16.256234</td>\n",
       "      <td>197.0</td>\n",
       "      <td>208.25</td>\n",
       "      <td>224.0</td>\n",
       "      <td>231.75</td>\n",
       "      <td>243.0</td>\n",
       "      <td>12.0</td>\n",
       "      <td>4.062833</td>\n",
       "      <td>...</td>\n",
       "      <td>4.24475</td>\n",
       "      <td>4.474</td>\n",
       "      <td>12.0</td>\n",
       "      <td>1.710833</td>\n",
       "      <td>0.240849</td>\n",
       "      <td>1.36</td>\n",
       "      <td>1.5975</td>\n",
       "      <td>1.660</td>\n",
       "      <td>1.8600</td>\n",
       "      <td>2.17</td>\n",
       "    </tr>\n",
       "    <tr>\n",
       "      <th>laddoo_lemon</th>\n",
       "      <th>[\"flour\",\"lemon juice\",\"sugar\",\"ghee\"]</th>\n",
       "      <td>13.0</td>\n",
       "      <td>174.384615</td>\n",
       "      <td>10.851563</td>\n",
       "      <td>161.0</td>\n",
       "      <td>167.00</td>\n",
       "      <td>170.0</td>\n",
       "      <td>180.00</td>\n",
       "      <td>195.0</td>\n",
       "      <td>13.0</td>\n",
       "      <td>3.849000</td>\n",
       "      <td>...</td>\n",
       "      <td>4.12300</td>\n",
       "      <td>4.562</td>\n",
       "      <td>13.0</td>\n",
       "      <td>1.803077</td>\n",
       "      <td>0.580465</td>\n",
       "      <td>1.12</td>\n",
       "      <td>1.2200</td>\n",
       "      <td>1.770</td>\n",
       "      <td>2.3600</td>\n",
       "      <td>2.77</td>\n",
       "    </tr>\n",
       "    <tr>\n",
       "      <th>minty_miami</th>\n",
       "      <th>[\"flour\",\"mint extract\",\"sugar\",\"butter\"]</th>\n",
       "      <td>15.0</td>\n",
       "      <td>186.266667</td>\n",
       "      <td>12.617826</td>\n",
       "      <td>168.0</td>\n",
       "      <td>178.00</td>\n",
       "      <td>183.0</td>\n",
       "      <td>196.00</td>\n",
       "      <td>209.0</td>\n",
       "      <td>15.0</td>\n",
       "      <td>3.714467</td>\n",
       "      <td>...</td>\n",
       "      <td>3.96400</td>\n",
       "      <td>4.388</td>\n",
       "      <td>15.0</td>\n",
       "      <td>1.438000</td>\n",
       "      <td>0.292384</td>\n",
       "      <td>1.09</td>\n",
       "      <td>1.2450</td>\n",
       "      <td>1.340</td>\n",
       "      <td>1.5900</td>\n",
       "      <td>2.15</td>\n",
       "    </tr>\n",
       "    <tr>\n",
       "      <th>nevadito</th>\n",
       "      <th>[\"flour\",\"chocolate chips\",\"milk\",\"vanilla extract\"]</th>\n",
       "      <td>15.0</td>\n",
       "      <td>222.400000</td>\n",
       "      <td>14.544513</td>\n",
       "      <td>205.0</td>\n",
       "      <td>211.00</td>\n",
       "      <td>219.0</td>\n",
       "      <td>229.50</td>\n",
       "      <td>253.0</td>\n",
       "      <td>15.0</td>\n",
       "      <td>3.959000</td>\n",
       "      <td>...</td>\n",
       "      <td>4.10500</td>\n",
       "      <td>4.346</td>\n",
       "      <td>15.0</td>\n",
       "      <td>1.864667</td>\n",
       "      <td>0.336831</td>\n",
       "      <td>1.46</td>\n",
       "      <td>1.6450</td>\n",
       "      <td>1.780</td>\n",
       "      <td>2.0150</td>\n",
       "      <td>2.71</td>\n",
       "    </tr>\n",
       "    <tr>\n",
       "      <th>orange_ozuna</th>\n",
       "      <th>[\"flour\",\"orange juice\",\"sugar\",\"vegetable oil\"]</th>\n",
       "      <td>16.0</td>\n",
       "      <td>167.250000</td>\n",
       "      <td>13.428825</td>\n",
       "      <td>153.0</td>\n",
       "      <td>158.00</td>\n",
       "      <td>161.5</td>\n",
       "      <td>179.25</td>\n",
       "      <td>198.0</td>\n",
       "      <td>16.0</td>\n",
       "      <td>3.506125</td>\n",
       "      <td>...</td>\n",
       "      <td>3.77225</td>\n",
       "      <td>4.573</td>\n",
       "      <td>16.0</td>\n",
       "      <td>1.716250</td>\n",
       "      <td>0.424152</td>\n",
       "      <td>1.10</td>\n",
       "      <td>1.4550</td>\n",
       "      <td>1.665</td>\n",
       "      <td>2.0175</td>\n",
       "      <td>2.59</td>\n",
       "    </tr>\n",
       "    <tr>\n",
       "      <th>red_velvet_rauw</th>\n",
       "      <th>[\"flour\",\"cocoa powder\",\"butter\",\"red food coloring\"]</th>\n",
       "      <td>17.0</td>\n",
       "      <td>200.176471</td>\n",
       "      <td>6.207206</td>\n",
       "      <td>191.0</td>\n",
       "      <td>196.00</td>\n",
       "      <td>198.0</td>\n",
       "      <td>204.00</td>\n",
       "      <td>211.0</td>\n",
       "      <td>17.0</td>\n",
       "      <td>4.106471</td>\n",
       "      <td>...</td>\n",
       "      <td>4.31900</td>\n",
       "      <td>4.930</td>\n",
       "      <td>17.0</td>\n",
       "      <td>1.671765</td>\n",
       "      <td>0.336364</td>\n",
       "      <td>1.23</td>\n",
       "      <td>1.4100</td>\n",
       "      <td>1.660</td>\n",
       "      <td>1.8300</td>\n",
       "      <td>2.44</td>\n",
       "    </tr>\n",
       "  </tbody>\n",
       "</table>\n",
       "<p>7 rows × 24 columns</p>\n",
       "</div>"
      ],
      "text/plain": [
       "                                                                   calories  \\\n",
       "                                                                      count   \n",
       "cookie          ingredients                                                   \n",
       "bbb             [\"flour\",\"blueberries\",\"sugar\",\"butter\"]               15.0   \n",
       "chocolate       [\"flour\",\"chocolate chips\",\"sugar\",\"butter\"]           12.0   \n",
       "laddoo_lemon    [\"flour\",\"lemon juice\",\"sugar\",\"ghee\"]                 13.0   \n",
       "minty_miami     [\"flour\",\"mint extract\",\"sugar\",\"butter\"]              15.0   \n",
       "nevadito        [\"flour\",\"chocolate chips\",\"milk\",\"vanilla extr...     15.0   \n",
       "orange_ozuna    [\"flour\",\"orange juice\",\"sugar\",\"vegetable oil\"]       16.0   \n",
       "red_velvet_rauw [\"flour\",\"cocoa powder\",\"butter\",\"red food colo...     17.0   \n",
       "\n",
       "                                                                                \\\n",
       "                                                                          mean   \n",
       "cookie          ingredients                                                      \n",
       "bbb             [\"flour\",\"blueberries\",\"sugar\",\"butter\"]            188.466667   \n",
       "chocolate       [\"flour\",\"chocolate chips\",\"sugar\",\"butter\"]        221.416667   \n",
       "laddoo_lemon    [\"flour\",\"lemon juice\",\"sugar\",\"ghee\"]              174.384615   \n",
       "minty_miami     [\"flour\",\"mint extract\",\"sugar\",\"butter\"]           186.266667   \n",
       "nevadito        [\"flour\",\"chocolate chips\",\"milk\",\"vanilla extr...  222.400000   \n",
       "orange_ozuna    [\"flour\",\"orange juice\",\"sugar\",\"vegetable oil\"]    167.250000   \n",
       "red_velvet_rauw [\"flour\",\"cocoa powder\",\"butter\",\"red food colo...  200.176471   \n",
       "\n",
       "                                                                               \\\n",
       "                                                                          std   \n",
       "cookie          ingredients                                                     \n",
       "bbb             [\"flour\",\"blueberries\",\"sugar\",\"butter\"]            12.158869   \n",
       "chocolate       [\"flour\",\"chocolate chips\",\"sugar\",\"butter\"]        16.256234   \n",
       "laddoo_lemon    [\"flour\",\"lemon juice\",\"sugar\",\"ghee\"]              10.851563   \n",
       "minty_miami     [\"flour\",\"mint extract\",\"sugar\",\"butter\"]           12.617826   \n",
       "nevadito        [\"flour\",\"chocolate chips\",\"milk\",\"vanilla extr...  14.544513   \n",
       "orange_ozuna    [\"flour\",\"orange juice\",\"sugar\",\"vegetable oil\"]    13.428825   \n",
       "red_velvet_rauw [\"flour\",\"cocoa powder\",\"butter\",\"red food colo...   6.207206   \n",
       "\n",
       "                                                                           \\\n",
       "                                                                      min   \n",
       "cookie          ingredients                                                 \n",
       "bbb             [\"flour\",\"blueberries\",\"sugar\",\"butter\"]            171.0   \n",
       "chocolate       [\"flour\",\"chocolate chips\",\"sugar\",\"butter\"]        197.0   \n",
       "laddoo_lemon    [\"flour\",\"lemon juice\",\"sugar\",\"ghee\"]              161.0   \n",
       "minty_miami     [\"flour\",\"mint extract\",\"sugar\",\"butter\"]           168.0   \n",
       "nevadito        [\"flour\",\"chocolate chips\",\"milk\",\"vanilla extr...  205.0   \n",
       "orange_ozuna    [\"flour\",\"orange juice\",\"sugar\",\"vegetable oil\"]    153.0   \n",
       "red_velvet_rauw [\"flour\",\"cocoa powder\",\"butter\",\"red food colo...  191.0   \n",
       "\n",
       "                                                                            \\\n",
       "                                                                       25%   \n",
       "cookie          ingredients                                                  \n",
       "bbb             [\"flour\",\"blueberries\",\"sugar\",\"butter\"]            182.50   \n",
       "chocolate       [\"flour\",\"chocolate chips\",\"sugar\",\"butter\"]        208.25   \n",
       "laddoo_lemon    [\"flour\",\"lemon juice\",\"sugar\",\"ghee\"]              167.00   \n",
       "minty_miami     [\"flour\",\"mint extract\",\"sugar\",\"butter\"]           178.00   \n",
       "nevadito        [\"flour\",\"chocolate chips\",\"milk\",\"vanilla extr...  211.00   \n",
       "orange_ozuna    [\"flour\",\"orange juice\",\"sugar\",\"vegetable oil\"]    158.00   \n",
       "red_velvet_rauw [\"flour\",\"cocoa powder\",\"butter\",\"red food colo...  196.00   \n",
       "\n",
       "                                                                           \\\n",
       "                                                                      50%   \n",
       "cookie          ingredients                                                 \n",
       "bbb             [\"flour\",\"blueberries\",\"sugar\",\"butter\"]            185.0   \n",
       "chocolate       [\"flour\",\"chocolate chips\",\"sugar\",\"butter\"]        224.0   \n",
       "laddoo_lemon    [\"flour\",\"lemon juice\",\"sugar\",\"ghee\"]              170.0   \n",
       "minty_miami     [\"flour\",\"mint extract\",\"sugar\",\"butter\"]           183.0   \n",
       "nevadito        [\"flour\",\"chocolate chips\",\"milk\",\"vanilla extr...  219.0   \n",
       "orange_ozuna    [\"flour\",\"orange juice\",\"sugar\",\"vegetable oil\"]    161.5   \n",
       "red_velvet_rauw [\"flour\",\"cocoa powder\",\"butter\",\"red food colo...  198.0   \n",
       "\n",
       "                                                                            \\\n",
       "                                                                       75%   \n",
       "cookie          ingredients                                                  \n",
       "bbb             [\"flour\",\"blueberries\",\"sugar\",\"butter\"]            196.00   \n",
       "chocolate       [\"flour\",\"chocolate chips\",\"sugar\",\"butter\"]        231.75   \n",
       "laddoo_lemon    [\"flour\",\"lemon juice\",\"sugar\",\"ghee\"]              180.00   \n",
       "minty_miami     [\"flour\",\"mint extract\",\"sugar\",\"butter\"]           196.00   \n",
       "nevadito        [\"flour\",\"chocolate chips\",\"milk\",\"vanilla extr...  229.50   \n",
       "orange_ozuna    [\"flour\",\"orange juice\",\"sugar\",\"vegetable oil\"]    179.25   \n",
       "red_velvet_rauw [\"flour\",\"cocoa powder\",\"butter\",\"red food colo...  204.00   \n",
       "\n",
       "                                                                           \\\n",
       "                                                                      max   \n",
       "cookie          ingredients                                                 \n",
       "bbb             [\"flour\",\"blueberries\",\"sugar\",\"butter\"]            213.0   \n",
       "chocolate       [\"flour\",\"chocolate chips\",\"sugar\",\"butter\"]        243.0   \n",
       "laddoo_lemon    [\"flour\",\"lemon juice\",\"sugar\",\"ghee\"]              195.0   \n",
       "minty_miami     [\"flour\",\"mint extract\",\"sugar\",\"butter\"]           209.0   \n",
       "nevadito        [\"flour\",\"chocolate chips\",\"milk\",\"vanilla extr...  253.0   \n",
       "orange_ozuna    [\"flour\",\"orange juice\",\"sugar\",\"vegetable oil\"]    198.0   \n",
       "red_velvet_rauw [\"flour\",\"cocoa powder\",\"butter\",\"red food colo...  211.0   \n",
       "\n",
       "                                                                   radius  \\\n",
       "                                                                    count   \n",
       "cookie          ingredients                                                 \n",
       "bbb             [\"flour\",\"blueberries\",\"sugar\",\"butter\"]             15.0   \n",
       "chocolate       [\"flour\",\"chocolate chips\",\"sugar\",\"butter\"]         12.0   \n",
       "laddoo_lemon    [\"flour\",\"lemon juice\",\"sugar\",\"ghee\"]               13.0   \n",
       "minty_miami     [\"flour\",\"mint extract\",\"sugar\",\"butter\"]            15.0   \n",
       "nevadito        [\"flour\",\"chocolate chips\",\"milk\",\"vanilla extr...   15.0   \n",
       "orange_ozuna    [\"flour\",\"orange juice\",\"sugar\",\"vegetable oil\"]     16.0   \n",
       "red_velvet_rauw [\"flour\",\"cocoa powder\",\"butter\",\"red food colo...   17.0   \n",
       "\n",
       "                                                                              \\\n",
       "                                                                        mean   \n",
       "cookie          ingredients                                                    \n",
       "bbb             [\"flour\",\"blueberries\",\"sugar\",\"butter\"]            3.914867   \n",
       "chocolate       [\"flour\",\"chocolate chips\",\"sugar\",\"butter\"]        4.062833   \n",
       "laddoo_lemon    [\"flour\",\"lemon juice\",\"sugar\",\"ghee\"]              3.849000   \n",
       "minty_miami     [\"flour\",\"mint extract\",\"sugar\",\"butter\"]           3.714467   \n",
       "nevadito        [\"flour\",\"chocolate chips\",\"milk\",\"vanilla extr...  3.959000   \n",
       "orange_ozuna    [\"flour\",\"orange juice\",\"sugar\",\"vegetable oil\"]    3.506125   \n",
       "red_velvet_rauw [\"flour\",\"cocoa powder\",\"butter\",\"red food colo...  4.106471   \n",
       "\n",
       "                                                                    ...  \\\n",
       "                                                                    ...   \n",
       "cookie          ingredients                                         ...   \n",
       "bbb             [\"flour\",\"blueberries\",\"sugar\",\"butter\"]            ...   \n",
       "chocolate       [\"flour\",\"chocolate chips\",\"sugar\",\"butter\"]        ...   \n",
       "laddoo_lemon    [\"flour\",\"lemon juice\",\"sugar\",\"ghee\"]              ...   \n",
       "minty_miami     [\"flour\",\"mint extract\",\"sugar\",\"butter\"]           ...   \n",
       "nevadito        [\"flour\",\"chocolate chips\",\"milk\",\"vanilla extr...  ...   \n",
       "orange_ozuna    [\"flour\",\"orange juice\",\"sugar\",\"vegetable oil\"]    ...   \n",
       "red_velvet_rauw [\"flour\",\"cocoa powder\",\"butter\",\"red food colo...  ...   \n",
       "\n",
       "                                                                             \\\n",
       "                                                                        75%   \n",
       "cookie          ingredients                                                   \n",
       "bbb             [\"flour\",\"blueberries\",\"sugar\",\"butter\"]            4.06700   \n",
       "chocolate       [\"flour\",\"chocolate chips\",\"sugar\",\"butter\"]        4.24475   \n",
       "laddoo_lemon    [\"flour\",\"lemon juice\",\"sugar\",\"ghee\"]              4.12300   \n",
       "minty_miami     [\"flour\",\"mint extract\",\"sugar\",\"butter\"]           3.96400   \n",
       "nevadito        [\"flour\",\"chocolate chips\",\"milk\",\"vanilla extr...  4.10500   \n",
       "orange_ozuna    [\"flour\",\"orange juice\",\"sugar\",\"vegetable oil\"]    3.77225   \n",
       "red_velvet_rauw [\"flour\",\"cocoa powder\",\"butter\",\"red food colo...  4.31900   \n",
       "\n",
       "                                                                           \\\n",
       "                                                                      max   \n",
       "cookie          ingredients                                                 \n",
       "bbb             [\"flour\",\"blueberries\",\"sugar\",\"butter\"]            4.281   \n",
       "chocolate       [\"flour\",\"chocolate chips\",\"sugar\",\"butter\"]        4.474   \n",
       "laddoo_lemon    [\"flour\",\"lemon juice\",\"sugar\",\"ghee\"]              4.562   \n",
       "minty_miami     [\"flour\",\"mint extract\",\"sugar\",\"butter\"]           4.388   \n",
       "nevadito        [\"flour\",\"chocolate chips\",\"milk\",\"vanilla extr...  4.346   \n",
       "orange_ozuna    [\"flour\",\"orange juice\",\"sugar\",\"vegetable oil\"]    4.573   \n",
       "red_velvet_rauw [\"flour\",\"cocoa powder\",\"butter\",\"red food colo...  4.930   \n",
       "\n",
       "                                                                   cost_to_make  \\\n",
       "                                                                          count   \n",
       "cookie          ingredients                                                       \n",
       "bbb             [\"flour\",\"blueberries\",\"sugar\",\"butter\"]                   15.0   \n",
       "chocolate       [\"flour\",\"chocolate chips\",\"sugar\",\"butter\"]               12.0   \n",
       "laddoo_lemon    [\"flour\",\"lemon juice\",\"sugar\",\"ghee\"]                     13.0   \n",
       "minty_miami     [\"flour\",\"mint extract\",\"sugar\",\"butter\"]                  15.0   \n",
       "nevadito        [\"flour\",\"chocolate chips\",\"milk\",\"vanilla extr...         15.0   \n",
       "orange_ozuna    [\"flour\",\"orange juice\",\"sugar\",\"vegetable oil\"]           16.0   \n",
       "red_velvet_rauw [\"flour\",\"cocoa powder\",\"butter\",\"red food colo...         17.0   \n",
       "\n",
       "                                                                              \\\n",
       "                                                                        mean   \n",
       "cookie          ingredients                                                    \n",
       "bbb             [\"flour\",\"blueberries\",\"sugar\",\"butter\"]            1.652667   \n",
       "chocolate       [\"flour\",\"chocolate chips\",\"sugar\",\"butter\"]        1.710833   \n",
       "laddoo_lemon    [\"flour\",\"lemon juice\",\"sugar\",\"ghee\"]              1.803077   \n",
       "minty_miami     [\"flour\",\"mint extract\",\"sugar\",\"butter\"]           1.438000   \n",
       "nevadito        [\"flour\",\"chocolate chips\",\"milk\",\"vanilla extr...  1.864667   \n",
       "orange_ozuna    [\"flour\",\"orange juice\",\"sugar\",\"vegetable oil\"]    1.716250   \n",
       "red_velvet_rauw [\"flour\",\"cocoa powder\",\"butter\",\"red food colo...  1.671765   \n",
       "\n",
       "                                                                              \\\n",
       "                                                                         std   \n",
       "cookie          ingredients                                                    \n",
       "bbb             [\"flour\",\"blueberries\",\"sugar\",\"butter\"]            0.372203   \n",
       "chocolate       [\"flour\",\"chocolate chips\",\"sugar\",\"butter\"]        0.240849   \n",
       "laddoo_lemon    [\"flour\",\"lemon juice\",\"sugar\",\"ghee\"]              0.580465   \n",
       "minty_miami     [\"flour\",\"mint extract\",\"sugar\",\"butter\"]           0.292384   \n",
       "nevadito        [\"flour\",\"chocolate chips\",\"milk\",\"vanilla extr...  0.336831   \n",
       "orange_ozuna    [\"flour\",\"orange juice\",\"sugar\",\"vegetable oil\"]    0.424152   \n",
       "red_velvet_rauw [\"flour\",\"cocoa powder\",\"butter\",\"red food colo...  0.336364   \n",
       "\n",
       "                                                                          \\\n",
       "                                                                     min   \n",
       "cookie          ingredients                                                \n",
       "bbb             [\"flour\",\"blueberries\",\"sugar\",\"butter\"]            1.17   \n",
       "chocolate       [\"flour\",\"chocolate chips\",\"sugar\",\"butter\"]        1.36   \n",
       "laddoo_lemon    [\"flour\",\"lemon juice\",\"sugar\",\"ghee\"]              1.12   \n",
       "minty_miami     [\"flour\",\"mint extract\",\"sugar\",\"butter\"]           1.09   \n",
       "nevadito        [\"flour\",\"chocolate chips\",\"milk\",\"vanilla extr...  1.46   \n",
       "orange_ozuna    [\"flour\",\"orange juice\",\"sugar\",\"vegetable oil\"]    1.10   \n",
       "red_velvet_rauw [\"flour\",\"cocoa powder\",\"butter\",\"red food colo...  1.23   \n",
       "\n",
       "                                                                            \\\n",
       "                                                                       25%   \n",
       "cookie          ingredients                                                  \n",
       "bbb             [\"flour\",\"blueberries\",\"sugar\",\"butter\"]            1.3700   \n",
       "chocolate       [\"flour\",\"chocolate chips\",\"sugar\",\"butter\"]        1.5975   \n",
       "laddoo_lemon    [\"flour\",\"lemon juice\",\"sugar\",\"ghee\"]              1.2200   \n",
       "minty_miami     [\"flour\",\"mint extract\",\"sugar\",\"butter\"]           1.2450   \n",
       "nevadito        [\"flour\",\"chocolate chips\",\"milk\",\"vanilla extr...  1.6450   \n",
       "orange_ozuna    [\"flour\",\"orange juice\",\"sugar\",\"vegetable oil\"]    1.4550   \n",
       "red_velvet_rauw [\"flour\",\"cocoa powder\",\"butter\",\"red food colo...  1.4100   \n",
       "\n",
       "                                                                           \\\n",
       "                                                                      50%   \n",
       "cookie          ingredients                                                 \n",
       "bbb             [\"flour\",\"blueberries\",\"sugar\",\"butter\"]            1.590   \n",
       "chocolate       [\"flour\",\"chocolate chips\",\"sugar\",\"butter\"]        1.660   \n",
       "laddoo_lemon    [\"flour\",\"lemon juice\",\"sugar\",\"ghee\"]              1.770   \n",
       "minty_miami     [\"flour\",\"mint extract\",\"sugar\",\"butter\"]           1.340   \n",
       "nevadito        [\"flour\",\"chocolate chips\",\"milk\",\"vanilla extr...  1.780   \n",
       "orange_ozuna    [\"flour\",\"orange juice\",\"sugar\",\"vegetable oil\"]    1.665   \n",
       "red_velvet_rauw [\"flour\",\"cocoa powder\",\"butter\",\"red food colo...  1.660   \n",
       "\n",
       "                                                                            \\\n",
       "                                                                       75%   \n",
       "cookie          ingredients                                                  \n",
       "bbb             [\"flour\",\"blueberries\",\"sugar\",\"butter\"]            1.8750   \n",
       "chocolate       [\"flour\",\"chocolate chips\",\"sugar\",\"butter\"]        1.8600   \n",
       "laddoo_lemon    [\"flour\",\"lemon juice\",\"sugar\",\"ghee\"]              2.3600   \n",
       "minty_miami     [\"flour\",\"mint extract\",\"sugar\",\"butter\"]           1.5900   \n",
       "nevadito        [\"flour\",\"chocolate chips\",\"milk\",\"vanilla extr...  2.0150   \n",
       "orange_ozuna    [\"flour\",\"orange juice\",\"sugar\",\"vegetable oil\"]    2.0175   \n",
       "red_velvet_rauw [\"flour\",\"cocoa powder\",\"butter\",\"red food colo...  1.8300   \n",
       "\n",
       "                                                                          \n",
       "                                                                     max  \n",
       "cookie          ingredients                                               \n",
       "bbb             [\"flour\",\"blueberries\",\"sugar\",\"butter\"]            2.51  \n",
       "chocolate       [\"flour\",\"chocolate chips\",\"sugar\",\"butter\"]        2.17  \n",
       "laddoo_lemon    [\"flour\",\"lemon juice\",\"sugar\",\"ghee\"]              2.77  \n",
       "minty_miami     [\"flour\",\"mint extract\",\"sugar\",\"butter\"]           2.15  \n",
       "nevadito        [\"flour\",\"chocolate chips\",\"milk\",\"vanilla extr...  2.71  \n",
       "orange_ozuna    [\"flour\",\"orange juice\",\"sugar\",\"vegetable oil\"]    2.59  \n",
       "red_velvet_rauw [\"flour\",\"cocoa powder\",\"butter\",\"red food colo...  2.44  \n",
       "\n",
       "[7 rows x 24 columns]"
      ]
     },
     "execution_count": 45,
     "metadata": {},
     "output_type": "execute_result"
    }
   ],
   "source": [
    "#TODO: group by cookie type and ingredients\n",
    "\n",
    "group_cookie_ingr = cookies.groupby(['cookie', 'ingredients'])\n",
    "\n",
    "group_cookie_ingr.describe()\n"
   ]
  },
  {
   "cell_type": "markdown",
   "metadata": {},
   "source": [
    "We may also want to filter the data. For example, we can filter the data to only show the cookies that have a radius greater than 4.3 cm. We can do this by indexing the DataFrame with a boolean expression."
   ]
  },
  {
   "cell_type": "code",
   "execution_count": 48,
   "metadata": {},
   "outputs": [
    {
     "name": "stdout",
     "output_type": "stream",
     "text": [
      "              cookie                                        ingredients  \\\n",
      "110  red_velvet_rauw  [\"flour\",\"cocoa powder\",\"butter\",\"red food col...   \n",
      "30   red_velvet_rauw  [\"flour\",\"cocoa powder\",\"butter\",\"red food col...   \n",
      "60      orange_ozuna   [\"flour\",\"orange juice\",\"sugar\",\"vegetable oil\"]   \n",
      "49      laddoo_lemon             [\"flour\",\"lemon juice\",\"sugar\",\"ghee\"]   \n",
      "101     laddoo_lemon             [\"flour\",\"lemon juice\",\"sugar\",\"ghee\"]   \n",
      "97   red_velvet_rauw  [\"flour\",\"cocoa powder\",\"butter\",\"red food col...   \n",
      "87         chocolate       [\"flour\",\"chocolate chips\",\"sugar\",\"butter\"]   \n",
      "80         chocolate       [\"flour\",\"chocolate chips\",\"sugar\",\"butter\"]   \n",
      "72   red_velvet_rauw  [\"flour\",\"cocoa powder\",\"butter\",\"red food col...   \n",
      "88      laddoo_lemon             [\"flour\",\"lemon juice\",\"sugar\",\"ghee\"]   \n",
      "47       minty_miami          [\"flour\",\"mint extract\",\"sugar\",\"butter\"]   \n",
      "29          nevadito  [\"flour\",\"chocolate chips\",\"milk\",\"vanilla ext...   \n",
      "62         chocolate       [\"flour\",\"chocolate chips\",\"sugar\",\"butter\"]   \n",
      "76   red_velvet_rauw  [\"flour\",\"cocoa powder\",\"butter\",\"red food col...   \n",
      "\n",
      "     calories  radius  cost_to_make  \n",
      "110       198   4.930          1.55  \n",
      "30        204   4.667          1.90  \n",
      "60        186   4.573          1.56  \n",
      "49        195   4.562          1.12  \n",
      "101       178   4.519          1.91  \n",
      "97        191   4.475          1.74  \n",
      "87        199   4.474          1.64  \n",
      "80        197   4.461          2.17  \n",
      "72        196   4.425          1.37  \n",
      "88        167   4.401          1.74  \n",
      "47        174   4.388          1.14  \n",
      "29        219   4.346          1.68  \n",
      "62        206   4.328          1.84  \n",
      "76        206   4.319          1.74  \n"
     ]
    }
   ],
   "source": [
    "#TODO: filter using the boolean expression\n",
    "\n",
    "filter_cookie = cookies['radius'] > 4.3\n",
    "print(cookies[filter_cookie])"
   ]
  },
  {
   "cell_type": "markdown",
   "metadata": {},
   "source": [
    "We may even want to use `groupby()` and filter idea together! For example, we can filter the data to only show the cookies that have a radius greater than 4.3 cm, and group the data by the `cookie` column."
   ]
  },
  {
   "cell_type": "code",
   "execution_count": 52,
   "metadata": {},
   "outputs": [
    {
     "name": "stdout",
     "output_type": "stream",
     "text": [
      "              cookie                                        ingredients  \\\n",
      "110  red_velvet_rauw  [\"flour\",\"cocoa powder\",\"butter\",\"red food col...   \n",
      "30   red_velvet_rauw  [\"flour\",\"cocoa powder\",\"butter\",\"red food col...   \n",
      "60      orange_ozuna   [\"flour\",\"orange juice\",\"sugar\",\"vegetable oil\"]   \n",
      "49      laddoo_lemon             [\"flour\",\"lemon juice\",\"sugar\",\"ghee\"]   \n",
      "101     laddoo_lemon             [\"flour\",\"lemon juice\",\"sugar\",\"ghee\"]   \n",
      "97   red_velvet_rauw  [\"flour\",\"cocoa powder\",\"butter\",\"red food col...   \n",
      "87         chocolate       [\"flour\",\"chocolate chips\",\"sugar\",\"butter\"]   \n",
      "80         chocolate       [\"flour\",\"chocolate chips\",\"sugar\",\"butter\"]   \n",
      "72   red_velvet_rauw  [\"flour\",\"cocoa powder\",\"butter\",\"red food col...   \n",
      "88      laddoo_lemon             [\"flour\",\"lemon juice\",\"sugar\",\"ghee\"]   \n",
      "47       minty_miami          [\"flour\",\"mint extract\",\"sugar\",\"butter\"]   \n",
      "29          nevadito  [\"flour\",\"chocolate chips\",\"milk\",\"vanilla ext...   \n",
      "62         chocolate       [\"flour\",\"chocolate chips\",\"sugar\",\"butter\"]   \n",
      "76   red_velvet_rauw  [\"flour\",\"cocoa powder\",\"butter\",\"red food col...   \n",
      "\n",
      "     calories  radius  cost_to_make  \n",
      "110       198   4.930          1.55  \n",
      "30        204   4.667          1.90  \n",
      "60        186   4.573          1.56  \n",
      "49        195   4.562          1.12  \n",
      "101       178   4.519          1.91  \n",
      "97        191   4.475          1.74  \n",
      "87        199   4.474          1.64  \n",
      "80        197   4.461          2.17  \n",
      "72        196   4.425          1.37  \n",
      "88        167   4.401          1.74  \n",
      "47        174   4.388          1.14  \n",
      "29        219   4.346          1.68  \n",
      "62        206   4.328          1.84  \n",
      "76        206   4.319          1.74  \n"
     ]
    }
   ],
   "source": [
    "#TODO: filter the data using the boolean expression\n",
    "# then group by cookie column\n",
    "\n",
    "filter_cookie = cookies['radius'] > 4.3\n",
    "filter_cookies = cookies[filter_cookie]\n",
    "filter_group_cookies = filter_cookies.groupby('cookie')\n",
    "print(filter_group_cookies.head())"
   ]
  },
  {
   "cell_type": "markdown",
   "metadata": {},
   "source": [
    "We may also want to aggregate the data. For example, we can aggregate the data by looking at the ratio of calories to radius. We can do this by using indexing and the `apply()` function."
   ]
  },
  {
   "cell_type": "code",
   "execution_count": 59,
   "metadata": {},
   "outputs": [
    {
     "name": "stdout",
     "output_type": "stream",
     "text": [
      "              cookie                                        ingredients  \\\n",
      "110  red_velvet_rauw  [\"flour\",\"cocoa powder\",\"butter\",\"red food col...   \n",
      "30   red_velvet_rauw  [\"flour\",\"cocoa powder\",\"butter\",\"red food col...   \n",
      "60      orange_ozuna   [\"flour\",\"orange juice\",\"sugar\",\"vegetable oil\"]   \n",
      "49      laddoo_lemon             [\"flour\",\"lemon juice\",\"sugar\",\"ghee\"]   \n",
      "101     laddoo_lemon             [\"flour\",\"lemon juice\",\"sugar\",\"ghee\"]   \n",
      "\n",
      "     calories  radius  cost_to_make  calories_per_radius  ratio_calorie_radius  \n",
      "110       198   4.930          1.55            40.162272             40.162272  \n",
      "30        204   4.667          1.90            43.711163             43.711163  \n",
      "60        186   4.573          1.56            40.673518             40.673518  \n",
      "49        195   4.562          1.12            42.744410             42.744410  \n",
      "101       178   4.519          1.91            39.389245             39.389245  \n"
     ]
    }
   ],
   "source": [
    "#TODO: add a column to the dataframe that is the\n",
    "# calories per radius\n",
    "\n",
    "def calculate_ratio_calorie_radius(row):\n",
    "    return row['calories'] / row['radius']\n",
    "\n",
    "cookies['ratio_calorie_radius'] = cookies.apply(calculate_ratio_calorie_radius, axis=1)\n",
    "\n",
    "print(cookies.head())\n"
   ]
  },
  {
   "cell_type": "markdown",
   "metadata": {},
   "source": [
    "Or we can just get rid of this column if we find it useless. We can do this by using the `drop()` function or indexing."
   ]
  },
  {
   "cell_type": "code",
   "execution_count": 60,
   "metadata": {},
   "outputs": [
    {
     "name": "stdout",
     "output_type": "stream",
     "text": [
      "              cookie                                        ingredients  \\\n",
      "110  red_velvet_rauw  [\"flour\",\"cocoa powder\",\"butter\",\"red food col...   \n",
      "30   red_velvet_rauw  [\"flour\",\"cocoa powder\",\"butter\",\"red food col...   \n",
      "60      orange_ozuna   [\"flour\",\"orange juice\",\"sugar\",\"vegetable oil\"]   \n",
      "49      laddoo_lemon             [\"flour\",\"lemon juice\",\"sugar\",\"ghee\"]   \n",
      "101     laddoo_lemon             [\"flour\",\"lemon juice\",\"sugar\",\"ghee\"]   \n",
      "..               ...                                                ...   \n",
      "93       minty_miami          [\"flour\",\"mint extract\",\"sugar\",\"butter\"]   \n",
      "0       laddoo_lemon             [\"flour\",\"lemon juice\",\"sugar\",\"ghee\"]   \n",
      "22               bbb           [\"flour\",\"blueberries\",\"sugar\",\"butter\"]   \n",
      "32       minty_miami          [\"flour\",\"mint extract\",\"sugar\",\"butter\"]   \n",
      "78      orange_ozuna   [\"flour\",\"orange juice\",\"sugar\",\"vegetable oil\"]   \n",
      "\n",
      "     calories  radius  cost_to_make  calories_per_radius  \n",
      "110       198   4.930          1.55            40.162272  \n",
      "30        204   4.667          1.90            43.711163  \n",
      "60        186   4.573          1.56            40.673518  \n",
      "49        195   4.562          1.12            42.744410  \n",
      "101       178   4.519          1.91            39.389245  \n",
      "..        ...     ...           ...                  ...  \n",
      "93        198   3.128          1.09            63.299233  \n",
      "0         170   3.102          1.17            54.803353  \n",
      "22        184   2.982          2.51            61.703555  \n",
      "32        178   2.952          1.34            60.298103  \n",
      "78        166   1.695          1.32            97.935103  \n",
      "\n",
      "[103 rows x 6 columns]\n"
     ]
    }
   ],
   "source": [
    "#TODO: drop the created column\n",
    "\n",
    "cookies = cookies.drop('ratio_calorie_radius', axis=1)\n",
    "print(cookies)"
   ]
  },
  {
   "cell_type": "markdown",
   "metadata": {},
   "source": [
    "### Visualizing the data"
   ]
  },
  {
   "cell_type": "markdown",
   "metadata": {},
   "source": [
    "We can also visualize the data. For example, we can visualize the data by plotting the radius of the cookies against the cost to make the cookies. We can do this by using the `plot()` function."
   ]
  },
  {
   "cell_type": "code",
   "execution_count": 63,
   "metadata": {},
   "outputs": [
    {
     "data": {
      "image/png": "[encoded data removed]",
      "text/plain": [
       "<Figure size 432x288 with 1 Axes>"
      ]
     },
     "metadata": {
      "needs_background": "light"
     },
     "output_type": "display_data"
    }
   ],
   "source": [
    "#TODO: plot the radius (x) versus cost to make (y)\n",
    "plt.scatter(cookies['radius'], cookies['cost_to_make'], alpha=0.5)\n",
    "plt.show()"
   ]
  },
  {
   "cell_type": "markdown",
   "metadata": {},
   "source": [
    "We may even want to get more specific and visualize the shape of a distribution of the `laddoo lemon`'s radius by making a boxplot. We can also do this by using the `plot()` function."
   ]
  },
  {
   "cell_type": "code",
   "execution_count": 69,
   "metadata": {},
   "outputs": [
    {
     "data": {
      "image/png": "[encoded data removed]",
      "text/plain": [
       "<Figure size 432x288 with 1 Axes>"
      ]
     },
     "metadata": {
      "needs_background": "light"
     },
     "output_type": "display_data"
    }
   ],
   "source": [
    "#TODO: add the described boxplot\n",
    "# remember that you changed the name from laddoo lemon to laddoo\n",
    "\n",
    "laddoo_cookies = cookies[cookies['cookie'] == 'laddoo_lemon']\n",
    "plt.boxplot(laddoo_cookies['radius'], vert=False)\n",
    "plt.show()"
   ]
  },
  {
   "cell_type": "markdown",
   "metadata": {},
   "source": [
    "Alternatively, we can create a histogram to visualize the distribution of the `laddoo lemon`'s radius. We can also do this by using the `plot()` function."
   ]
  },
  {
   "cell_type": "code",
   "execution_count": 71,
   "metadata": {},
   "outputs": [
    {
     "data": {
      "image/png": "[encoded data removed]",
      "text/plain": [
       "<Figure size 432x288 with 1 Axes>"
      ]
     },
     "metadata": {
      "needs_background": "light"
     },
     "output_type": "display_data"
    }
   ],
   "source": [
    "#TODO: add the described histogram\n",
    "\n",
    "laddoo_cookies = cookies[cookies['cookie'] == 'laddoo_lemon']\n",
    "plt.hist(laddoo_cookies['radius'])\n",
    "plt.show()"
   ]
  },
  {
   "cell_type": "markdown",
   "metadata": {},
   "source": [
    "Things can get more complicated too. Maybe we want to analyze the behaviors of `bad berry bunny` and `laddoo lemon`'s radius using a boxplot. But this time, let's try it using the alternative `boxplot()` function. For practice, try doing it with `plot()` too!"
   ]
  },
  {
   "cell_type": "code",
   "execution_count": 79,
   "metadata": {},
   "outputs": [
    {
     "data": {
      "image/png": "[encoded data removed]",
      "text/plain": [
       "<Figure size 432x288 with 1 Axes>"
      ]
     },
     "metadata": {
      "needs_background": "light"
     },
     "output_type": "display_data"
    },
    {
     "data": {
      "image/png": "[encoded data removed]",
      "text/plain": [
       "<Figure size 432x288 with 1 Axes>"
      ]
     },
     "metadata": {
      "needs_background": "light"
     },
     "output_type": "display_data"
    }
   ],
   "source": [
    "#TODO: analyze the two cookie's radius in a boxplot\n",
    "\n",
    "import seaborn as sns\n",
    "import matplotlib.pyplot as plt\n",
    "\n",
    "sns.boxplot(x='cookie', y='radius', data=cookies)\n",
    "plt.show()\n",
    "\n",
    "bad_berry_bunny_data = cookies[cookies['cookie'] == 'bbb']\n",
    "laddoo_data = cookies[cookies['cookie'] == 'laddoo_lemon']\n",
    "plt.boxplot([bad_berry_bunny_data['radius'], laddoo_data['radius']])\n",
    "plt.show()\n"
   ]
  },
  {
   "cell_type": "markdown",
   "metadata": {},
   "source": [
    "### Practice Problems\n",
    "Now that you have learned some of Pandas' capabilities, let's try some practice problems! **This is the part that will be checked when you submit it!**"
   ]
  },
  {
   "cell_type": "markdown",
   "metadata": {},
   "source": [
    "#### Problem 1\n",
    "How many cookies were made? (Hint: use the `shape` attribute)"
   ]
  },
  {
   "cell_type": "code",
   "execution_count": 83,
   "metadata": {},
   "outputs": [
    {
     "name": "stdout",
     "output_type": "stream",
     "text": [
      "103\n"
     ]
    }
   ],
   "source": [
    "num_cookies_made = cookies.shape[0]\n",
    "print(num_cookies_made)"
   ]
  },
  {
   "cell_type": "markdown",
   "metadata": {},
   "source": [
    "#### Problem 2\n",
    "Add a column to the DataFrame that has the value `True` if the cookie has a radius greater than 4 cm, and `False` otherwise. (Hint: use the `apply()` function)"
   ]
  },
  {
   "cell_type": "code",
   "execution_count": 87,
   "metadata": {},
   "outputs": [
    {
     "name": "stdout",
     "output_type": "stream",
     "text": [
      "              cookie                                        ingredients  \\\n",
      "110  red_velvet_rauw  [\"flour\",\"cocoa powder\",\"butter\",\"red food col...   \n",
      "30   red_velvet_rauw  [\"flour\",\"cocoa powder\",\"butter\",\"red food col...   \n",
      "60      orange_ozuna   [\"flour\",\"orange juice\",\"sugar\",\"vegetable oil\"]   \n",
      "49      laddoo_lemon             [\"flour\",\"lemon juice\",\"sugar\",\"ghee\"]   \n",
      "101     laddoo_lemon             [\"flour\",\"lemon juice\",\"sugar\",\"ghee\"]   \n",
      "..               ...                                                ...   \n",
      "93       minty_miami          [\"flour\",\"mint extract\",\"sugar\",\"butter\"]   \n",
      "0       laddoo_lemon             [\"flour\",\"lemon juice\",\"sugar\",\"ghee\"]   \n",
      "22               bbb           [\"flour\",\"blueberries\",\"sugar\",\"butter\"]   \n",
      "32       minty_miami          [\"flour\",\"mint extract\",\"sugar\",\"butter\"]   \n",
      "78      orange_ozuna   [\"flour\",\"orange juice\",\"sugar\",\"vegetable oil\"]   \n",
      "\n",
      "     calories  radius  cost_to_make  calories_per_radius  \\\n",
      "110       198   4.930          1.55            40.162272   \n",
      "30        204   4.667          1.90            43.711163   \n",
      "60        186   4.573          1.56            40.673518   \n",
      "49        195   4.562          1.12            42.744410   \n",
      "101       178   4.519          1.91            39.389245   \n",
      "..        ...     ...           ...                  ...   \n",
      "93        198   3.128          1.09            63.299233   \n",
      "0         170   3.102          1.17            54.803353   \n",
      "22        184   2.982          2.51            61.703555   \n",
      "32        178   2.952          1.34            60.298103   \n",
      "78        166   1.695          1.32            97.935103   \n",
      "\n",
      "     radius_greater_than_4cm  average_radius  radius4cm  \n",
      "110                     True        4.106471       True  \n",
      "30                      True        4.106471       True  \n",
      "60                      True        3.506125       True  \n",
      "49                      True        3.849000       True  \n",
      "101                     True        3.849000       True  \n",
      "..                       ...             ...        ...  \n",
      "93                     False        3.714467      False  \n",
      "0                      False        3.849000      False  \n",
      "22                     False        3.914867      False  \n",
      "32                     False        3.714467      False  \n",
      "78                     False        3.506125      False  \n",
      "\n",
      "[103 rows x 9 columns]\n"
     ]
    }
   ],
   "source": [
    "def Radius4cm(radius):\n",
    "    return radius > 4.0\n",
    "\n",
    "cookies['radius4cm'] = cookies['radius'].apply(Radius4cm)\n",
    "print(cookies)"
   ]
  },
  {
   "cell_type": "markdown",
   "metadata": {},
   "source": [
    "#### Problem 3\n",
    "\n",
    "Group the data by the `cookie` column, and find the average radius of each cookie. (Hint: use the `groupby()` and `transform()` function). Add this column to the DataFrame."
   ]
  },
  {
   "cell_type": "code",
   "execution_count": 88,
   "metadata": {},
   "outputs": [
    {
     "name": "stdout",
     "output_type": "stream",
     "text": [
      "              cookie                                        ingredients  \\\n",
      "110  red_velvet_rauw  [\"flour\",\"cocoa powder\",\"butter\",\"red food col...   \n",
      "30   red_velvet_rauw  [\"flour\",\"cocoa powder\",\"butter\",\"red food col...   \n",
      "60      orange_ozuna   [\"flour\",\"orange juice\",\"sugar\",\"vegetable oil\"]   \n",
      "49      laddoo_lemon             [\"flour\",\"lemon juice\",\"sugar\",\"ghee\"]   \n",
      "101     laddoo_lemon             [\"flour\",\"lemon juice\",\"sugar\",\"ghee\"]   \n",
      "..               ...                                                ...   \n",
      "93       minty_miami          [\"flour\",\"mint extract\",\"sugar\",\"butter\"]   \n",
      "0       laddoo_lemon             [\"flour\",\"lemon juice\",\"sugar\",\"ghee\"]   \n",
      "22               bbb           [\"flour\",\"blueberries\",\"sugar\",\"butter\"]   \n",
      "32       minty_miami          [\"flour\",\"mint extract\",\"sugar\",\"butter\"]   \n",
      "78      orange_ozuna   [\"flour\",\"orange juice\",\"sugar\",\"vegetable oil\"]   \n",
      "\n",
      "     calories  radius  cost_to_make  calories_per_radius  \\\n",
      "110       198   4.930          1.55            40.162272   \n",
      "30        204   4.667          1.90            43.711163   \n",
      "60        186   4.573          1.56            40.673518   \n",
      "49        195   4.562          1.12            42.744410   \n",
      "101       178   4.519          1.91            39.389245   \n",
      "..        ...     ...           ...                  ...   \n",
      "93        198   3.128          1.09            63.299233   \n",
      "0         170   3.102          1.17            54.803353   \n",
      "22        184   2.982          2.51            61.703555   \n",
      "32        178   2.952          1.34            60.298103   \n",
      "78        166   1.695          1.32            97.935103   \n",
      "\n",
      "     radius_greater_than_4cm  average_radius  radius4cm  avgRadius  \n",
      "110                     True        4.106471       True   4.106471  \n",
      "30                      True        4.106471       True   4.106471  \n",
      "60                      True        3.506125       True   3.506125  \n",
      "49                      True        3.849000       True   3.849000  \n",
      "101                     True        3.849000       True   3.849000  \n",
      "..                       ...             ...        ...        ...  \n",
      "93                     False        3.714467      False   3.714467  \n",
      "0                      False        3.849000      False   3.849000  \n",
      "22                     False        3.914867      False   3.914867  \n",
      "32                     False        3.714467      False   3.714467  \n",
      "78                     False        3.506125      False   3.506125  \n",
      "\n",
      "[103 rows x 10 columns]\n"
     ]
    }
   ],
   "source": [
    "cookies['avgRadius'] = cookies.groupby('cookie')['radius'].transform('mean')\n",
    "print(cookies)"
   ]
  },
  {
   "cell_type": "markdown",
   "metadata": {},
   "source": [
    "#### Problem 4\n",
    "Create a new DataFrame that only contains the cookies that have the ingredient `\"chocolate chips\"`. (Hint: use the `str.contains()` function)"
   ]
  },
  {
   "cell_type": "code",
   "execution_count": 92,
   "metadata": {},
   "outputs": [
    {
     "name": "stdout",
     "output_type": "stream",
     "text": [
      "        cookie                                        ingredients  calories  \\\n",
      "87   chocolate       [\"flour\",\"chocolate chips\",\"sugar\",\"butter\"]       199   \n",
      "80   chocolate       [\"flour\",\"chocolate chips\",\"sugar\",\"butter\"]       197   \n",
      "29    nevadito  [\"flour\",\"chocolate chips\",\"milk\",\"vanilla ext...       219   \n",
      "62   chocolate       [\"flour\",\"chocolate chips\",\"sugar\",\"butter\"]       206   \n",
      "55   chocolate       [\"flour\",\"chocolate chips\",\"sugar\",\"butter\"]       229   \n",
      "48   chocolate       [\"flour\",\"chocolate chips\",\"sugar\",\"butter\"]       240   \n",
      "94   chocolate       [\"flour\",\"chocolate chips\",\"sugar\",\"butter\"]       243   \n",
      "64    nevadito  [\"flour\",\"chocolate chips\",\"milk\",\"vanilla ext...       211   \n",
      "107  chocolate       [\"flour\",\"chocolate chips\",\"sugar\",\"butter\"]       222   \n",
      "36    nevadito  [\"flour\",\"chocolate chips\",\"milk\",\"vanilla ext...       211   \n",
      "71    nevadito  [\"flour\",\"chocolate chips\",\"milk\",\"vanilla ext...       214   \n",
      "121  chocolate       [\"flour\",\"chocolate chips\",\"sugar\",\"butter\"]       227   \n",
      "2     nevadito  [\"flour\",\"chocolate chips\",\"milk\",\"vanilla ext...       224   \n",
      "82    nevadito  [\"flour\",\"chocolate chips\",\"milk\",\"vanilla ext...       253   \n",
      "19    nevadito  [\"flour\",\"chocolate chips\",\"milk\",\"vanilla ext...       236   \n",
      "125   nevadito  [\"flour\",\"chocolate chips\",\"milk\",\"vanilla ext...       211   \n",
      "114  chocolate       [\"flour\",\"chocolate chips\",\"sugar\",\"butter\"]       226   \n",
      "50    nevadito  [\"flour\",\"chocolate chips\",\"milk\",\"vanilla ext...       220   \n",
      "10    nevadito  [\"flour\",\"chocolate chips\",\"milk\",\"vanilla ext...       216   \n",
      "69   chocolate       [\"flour\",\"chocolate chips\",\"sugar\",\"butter\"]       216   \n",
      "89    nevadito  [\"flour\",\"chocolate chips\",\"milk\",\"vanilla ext...       249   \n",
      "102   nevadito  [\"flour\",\"chocolate chips\",\"milk\",\"vanilla ext...       229   \n",
      "96    nevadito  [\"flour\",\"chocolate chips\",\"milk\",\"vanilla ext...       230   \n",
      "43    nevadito  [\"flour\",\"chocolate chips\",\"milk\",\"vanilla ext...       205   \n",
      "7    chocolate       [\"flour\",\"chocolate chips\",\"sugar\",\"butter\"]       243   \n",
      "57    nevadito  [\"flour\",\"chocolate chips\",\"milk\",\"vanilla ext...       208   \n",
      "17   chocolate       [\"flour\",\"chocolate chips\",\"sugar\",\"butter\"]       209   \n",
      "\n",
      "     radius  cost_to_make  calories_per_radius  radius_greater_than_4cm  \\\n",
      "87    4.474          1.64            44.479213                     True   \n",
      "80    4.461          2.17            44.160502                     True   \n",
      "29    4.346          1.68            50.391164                     True   \n",
      "62    4.328          1.84            47.597043                     True   \n",
      "55    4.217          1.69            54.304008                     True   \n",
      "48    4.212          1.47            56.980057                     True   \n",
      "94    4.207          1.64            57.760875                     True   \n",
      "64    4.205          1.69            50.178359                     True   \n",
      "107   4.186          1.36            53.033923                     True   \n",
      "36    4.152          2.22            50.818882                     True   \n",
      "71    4.141          1.87            51.678339                     True   \n",
      "121   4.085          1.92            55.569155                     True   \n",
      "2     4.069          1.54            55.050381                     True   \n",
      "82    4.043          1.62            62.577294                     True   \n",
      "19    4.043          1.79            58.372496                     True   \n",
      "125   3.915          2.11            53.895275                    False   \n",
      "114   3.894          1.45            58.038007                    False   \n",
      "50    3.855          2.71            57.068742                    False   \n",
      "10    3.848          1.78            56.133056                    False   \n",
      "69    3.824          1.65            56.485356                    False   \n",
      "89    3.819          1.63            65.200314                    False   \n",
      "102   3.802          2.29            60.231457                    False   \n",
      "96    3.788          1.66            60.718057                    False   \n",
      "43    3.776          1.46            54.290254                    False   \n",
      "7     3.684          1.67            65.960912                    False   \n",
      "57    3.583          1.92            58.051912                    False   \n",
      "17    3.182          2.03            65.681961                    False   \n",
      "\n",
      "     average_radius  radius4cm  avgRadius  \n",
      "87         4.062833       True   4.062833  \n",
      "80         4.062833       True   4.062833  \n",
      "29         3.959000       True   3.959000  \n",
      "62         4.062833       True   4.062833  \n",
      "55         4.062833       True   4.062833  \n",
      "48         4.062833       True   4.062833  \n",
      "94         4.062833       True   4.062833  \n",
      "64         3.959000       True   3.959000  \n",
      "107        4.062833       True   4.062833  \n",
      "36         3.959000       True   3.959000  \n",
      "71         3.959000       True   3.959000  \n",
      "121        4.062833       True   4.062833  \n",
      "2          3.959000       True   3.959000  \n",
      "82         3.959000       True   3.959000  \n",
      "19         3.959000       True   3.959000  \n",
      "125        3.959000      False   3.959000  \n",
      "114        4.062833      False   4.062833  \n",
      "50         3.959000      False   3.959000  \n",
      "10         3.959000      False   3.959000  \n",
      "69         4.062833      False   4.062833  \n",
      "89         3.959000      False   3.959000  \n",
      "102        3.959000      False   3.959000  \n",
      "96         3.959000      False   3.959000  \n",
      "43         3.959000      False   3.959000  \n",
      "7          4.062833      False   4.062833  \n",
      "57         3.959000      False   3.959000  \n",
      "17         4.062833      False   4.062833  \n"
     ]
    }
   ],
   "source": [
    "chocChip = cookies[cookies['ingredients'].str.contains('chocolate chips')]\n",
    "print(chocChip)"
   ]
  },
  {
   "cell_type": "markdown",
   "metadata": {},
   "source": [
    "#### Problem 5\n",
    "\n",
    "Create a boxplot of `cost_to_make` for all cookies except `chocolate` using the `boxplot()` function."
   ]
  },
  {
   "cell_type": "code",
   "execution_count": 96,
   "metadata": {},
   "outputs": [
    {
     "data": {
      "image/png": "[encoded data removed]",
      "text/plain": [
       "<Figure size 432x288 with 1 Axes>"
      ]
     },
     "metadata": {
      "needs_background": "light"
     },
     "output_type": "display_data"
    }
   ],
   "source": [
    "nonChoc_cookies = cookies[cookies['ingredients'].str.contains('chocolate')]\n",
    "plt.boxplot(nonChoc_cookies['cost_to_make'], vert=False)\n",
    "plt.show()\n"
   ]
  },
  {
   "cell_type": "markdown",
   "metadata": {},
   "source": [
    "#### Problem 6\n",
    "\n",
    "Create a histogram of the `bad berry bunny`'s calories using the `plot()` function."
   ]
  },
  {
   "cell_type": "code",
   "execution_count": 99,
   "metadata": {},
   "outputs": [
    {
     "data": {
      "image/png": "[encoded data removed]",
      "text/plain": [
       "<Figure size 432x288 with 1 Axes>"
      ]
     },
     "metadata": {
      "needs_background": "light"
     },
     "output_type": "display_data"
    }
   ],
   "source": [
    "bbbC = cookies[cookies['cookie'] == 'bbb']\n",
    "bbbC['calories'].plot(kind='hist')\n",
    "plt.show()\n"
   ]
  },
  {
   "cell_type": "markdown",
   "metadata": {},
   "source": [
    "#### Problem 7\n",
    "\n",
    "Calculate the average calories per cookie type and display the result in a bar chart."
   ]
  },
  {
   "cell_type": "code",
   "execution_count": 102,
   "metadata": {},
   "outputs": [
    {
     "data": {
      "image/png": "[encoded data removed]",
      "text/plain": [
       "<Figure size 432x288 with 1 Axes>"
      ]
     },
     "metadata": {
      "needs_background": "light"
     },
     "output_type": "display_data"
    }
   ],
   "source": [
    "avgCalorie_cookie = cookies.groupby('cookie')['calories'].mean()\n",
    "avgCalorie_cookie.plot(kind='bar')\n",
    "plt.show()\n"
   ]
  },
  {
   "cell_type": "markdown",
   "metadata": {},
   "source": [
    "#### Problem 8\n",
    "\n",
    "Find the top 3 most expensive cookies in terms of cost_to_make"
   ]
  },
  {
   "cell_type": "code",
   "execution_count": 105,
   "metadata": {},
   "outputs": [
    {
     "name": "stdout",
     "output_type": "stream",
     "text": [
      "          cookie                                        ingredients  calories  \\\n",
      "42  laddoo_lemon             [\"flour\",\"lemon juice\",\"sugar\",\"ghee\"]       176   \n",
      "50      nevadito  [\"flour\",\"chocolate chips\",\"milk\",\"vanilla ext...       220   \n",
      "13  orange_ozuna   [\"flour\",\"orange juice\",\"sugar\",\"vegetable oil\"]       159   \n",
      "\n",
      "    radius  cost_to_make  calories_per_radius  radius_greater_than_4cm  \\\n",
      "42   4.110          2.77            42.822384                     True   \n",
      "50   3.855          2.71            57.068742                    False   \n",
      "13   3.429          2.59            46.369204                    False   \n",
      "\n",
      "    average_radius  radius4cm  avgRadius  \n",
      "42        3.849000       True   3.849000  \n",
      "50        3.959000      False   3.959000  \n",
      "13        3.506125      False   3.506125  \n"
     ]
    }
   ],
   "source": [
    "rankExpensive = cookies.sort_values(by='cost_to_make', ascending=False)\n",
    "top3 = rankExpensive.head(3)\n",
    "print(top3)\n"
   ]
  },
  {
   "cell_type": "code",
   "execution_count": null,
   "metadata": {},
   "outputs": [],
   "source": []
  },
  {
   "cell_type": "code",
   "execution_count": null,
   "metadata": {},
   "outputs": [],
   "source": []
  },
  {
   "cell_type": "code",
   "execution_count": null,
   "metadata": {},
   "outputs": [],
   "source": []
  },
  {
   "cell_type": "code",
   "execution_count": null,
   "metadata": {},
   "outputs": [],
   "source": []
  }
 ],
 "metadata": {
  "kernelspec": {
   "display_name": "Python 3",
   "language": "python",
   "name": "python3"
  },
  "language_info": {
   "codemirror_mode": {
    "name": "ipython",
    "version": 3
   },
   "file_extension": ".py",
   "mimetype": "text/x-python",
   "name": "python",
   "nbconvert_exporter": "python",
   "pygments_lexer": "ipython3",
   "version": "3.8.3"
  },
  "vscode": {
   "interpreter": {
    "hash": "63639127d0784e8e4de1a76bcacd89583be09d9f82d600966cd9457d183cbbf7"
   }
  }
 },
 "nbformat": 4,
 "nbformat_minor": 2
}
