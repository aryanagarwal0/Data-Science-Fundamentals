{
 "cells": [
  {
   "cell_type": "markdown",
   "metadata": {},
   "source": [
    "# Worksheet 12\n",
    "\n",
    "Name: Aryan Agarwal  \n",
    "UID: U36516144\n",
    "\n",
    "### Topics\n",
    "\n",
    "- Introduction to Classification\n",
    "- K Nearest Neighbors\n",
    "\n",
    "### Introduction to Classification\n",
    "\n",
    "a) For the following examples, say whether they are or aren't an example of classification.\n",
    "\n",
    "1. Predicting whether a student will be offered a job after graduating given their GPA.\n",
    "2. Predicting how long it will take (in number of months) for a student to be offered a job after graduating, given their GPA.\n",
    "3. Predicting the number of stars (1-5) a person will assign in their yelp review given the description they wrote in the review.\n",
    "4. Predicting the number of births occuring in a specified minute."
   ]
  },
  {
   "cell_type": "markdown",
   "metadata": {},
   "source": [
    "1. Classification\n",
    "2. Not classification\n",
    "3. Classification\n",
    "4. Not classification"
   ]
  },
  {
   "cell_type": "markdown",
   "metadata": {},
   "source": [
    "b) Given a dataset, how would you set things up such that you can both learn a model and get an idea of how this model might perform on data it has never seen?"
   ]
  },
  {
   "cell_type": "markdown",
   "metadata": {},
   "source": [
    "I would set up things such that there is a training test where we train and testing test where we will test"
   ]
  },
  {
   "cell_type": "markdown",
   "metadata": {},
   "source": [
    "c) In your own words, briefly explain:\n",
    "\n",
    "- underfitting\n",
    "- overfitting\n",
    "\n",
    "and what signs to look out for for each."
   ]
  },
  {
   "cell_type": "markdown",
   "metadata": {},
   "source": [
    "Underfitting: The model doesn't do well on training or testing. \n",
    "\n",
    "Overfitting: when the model does too well on the training and does not do well on testing."
   ]
  },
  {
   "cell_type": "markdown",
   "metadata": {},
   "source": [
    "### K Nearest Neighbors"
   ]
  },
  {
   "cell_type": "code",
   "execution_count": 7,
   "metadata": {},
   "outputs": [],
   "source": [
    "import numpy as np\n",
    "import matplotlib.pyplot as plt\n",
    "\n",
    "data = {\n",
    "    \"Attribute A\" : [3.5, 0, 1, 2.5, 2, 1.5, 2, 3.5, 1, 3, 2, 2, 2.5, 0.5, 0., 10],\n",
    "    \"Attribute B\" : [4, 1.5, 2, 1, 3.5, 2.5, 1, 0, 3, 1.5, 4, 2, 2.5, 0.5, 2.5, 10],\n",
    "    \"Class\" : [1, 0, 1, 0, 1, 0, 1, 0, 1, 0, 1, 0, 0, 1, 1, 0],\n",
    "}"
   ]
  },
  {
   "cell_type": "markdown",
   "metadata": {},
   "source": [
    "a) Plot the data in a 2D plot coloring each scatter point one of two colors depending on its corresponding class."
   ]
  },
  {
   "cell_type": "code",
   "execution_count": 8,
   "metadata": {},
   "outputs": [
    {
     "data": {
      "image/png": "[encoded data removed]",
      "text/plain": [
       "<Figure size 432x288 with 1 Axes>"
      ]
     },
     "metadata": {
      "needs_background": "light"
     },
     "output_type": "display_data"
    }
   ],
   "source": [
    "colors = np.array([x for x in 'bgrcmyk'])\n",
    "plt.scatter(data[\"Attribute A\"],data[\"Attribute B\"], color=colors[data[\"Class\"]].tolist())\n",
    "plt.show()"
   ]
  },
  {
   "cell_type": "markdown",
   "metadata": {},
   "source": [
    "Outliers are points that lie far from the rest of the data. They are not necessarily invalid points however. Imagine sampling from a Normal Distribution with mean 10 and variance 1. You would expect most points you sample to be in the range [7, 13] but it's entirely possible to see 20 which, on average, should be very far from the rest of the points in the sample (unless we're VERY (un)lucky). These outliers can inhibit our ability to learn general patterns in the data since they are not representative of likely outcomes. They can still be useful in of themselves and can be analyzed in great depth depending on the problem at hand.\n",
    "\n",
    "b) Are there any points in the dataset that could be outliers? If so, please remove them from the dataset."
   ]
  },
  {
   "cell_type": "markdown",
   "metadata": {},
   "source": [
    "yes, (10,10)\n"
   ]
  },
  {
   "cell_type": "code",
   "execution_count": 9,
   "metadata": {},
   "outputs": [
    {
     "data": {
      "text/plain": [
       "0"
      ]
     },
     "execution_count": 9,
     "metadata": {},
     "output_type": "execute_result"
    }
   ],
   "source": [
    "data[\"Attribute A\"].pop(-1)\n",
    "data[\"Attribute B\"].pop(-1)\n",
    "data[\"Class\"].pop(-1)"
   ]
  },
  {
   "cell_type": "markdown",
   "metadata": {},
   "source": [
    "Noise points are points that could be considered invalid under the general trend in the data. These could be the result of actual errors in the data or randomness that we could attribute to oversimplification (for example if missing some information / feature about each point). Considering noise points in our model can often lead to overfitting.\n",
    "\n",
    "c) Are there any points in the dataset that could be noise points?"
   ]
  },
  {
   "cell_type": "markdown",
   "metadata": {},
   "source": [
    "no, most of the points are pretty close together"
   ]
  },
  {
   "cell_type": "markdown",
   "metadata": {},
   "source": [
    "For the following point\n",
    "\n",
    "|  A  |  B  |\n",
    "|-----|-----|\n",
    "| 0.5 |  1  |\n",
    "\n",
    "d) Plot it in a different color along with the rest of the points in the dataset."
   ]
  },
  {
   "cell_type": "code",
   "execution_count": 10,
   "metadata": {},
   "outputs": [
    {
     "data": {
      "image/png": "[encoded data removed]",
      "text/plain": [
       "<Figure size 432x288 with 1 Axes>"
      ]
     },
     "metadata": {
      "needs_background": "light"
     },
     "output_type": "display_data"
    }
   ],
   "source": [
    "plt.scatter(data[\"Attribute A\"],data[\"Attribute B\"], color=colors[data[\"Class\"]].tolist())\n",
    "plt.scatter(0.5,1, color='r')\n",
    "point=(0.5,1)\n",
    "plt.show()"
   ]
  },
  {
   "cell_type": "markdown",
   "metadata": {},
   "source": [
    "e) Write a function to compute the Euclidean distance from it to all points in the dataset and pick the 3 closest points to it. In a scatter plot, draw a circle centered around the point with radius the distance of the farthest of the three points."
   ]
  },
  {
   "cell_type": "code",
   "execution_count": 13,
   "metadata": {},
   "outputs": [
    {
     "data": {
      "image/png": "[encoded data removed]",
      "text/plain": [
       "<Figure size 432x288 with 1 Axes>"
      ]
     },
     "metadata": {
      "needs_background": "light"
     },
     "output_type": "display_data"
    }
   ],
   "source": [
    "def n_closest_to(example, n):\n",
    "    lis=[((i[0]-example[0])**2+(i[1]-example[1])**2)**0.5 for i in n]\n",
    "    top3=sorted(range(len(lis)), key=lambda i: lis[i])[:3]\n",
    "    return top3\n",
    "\n",
    "top3=n_closest_to(point,list(zip(data[\"Attribute A\"],data[\"Attribute B\"])))\n",
    "\n",
    "location = point\n",
    "radius = ((list(zip(data[\"Attribute A\"],data[\"Attribute B\"]))[top3[2]][0]-point[0])**2+(list(zip(data[\"Attribute A\"],data[\"Attribute B\"]))[top3[2]][1]-point[1])**2)**0.5\n",
    "\n",
    "_, axes = plt.subplots()\n",
    "\n",
    "axes.scatter(data[\"Attribute A\"],data[\"Attribute B\"], color=colors[data[\"Class\"]].tolist())\n",
    "axes.scatter(0.5,1, color='r')\n",
    "\n",
    "\n",
    "cir = plt.Circle(location, radius, fill = False, alpha=0.8)\n",
    "axes.add_patch(cir)\n",
    "axes.set_aspect('equal') # necessary so that the circle is not oval\n",
    "plt.show()"
   ]
  },
  {
   "cell_type": "markdown",
   "metadata": {},
   "source": [
    "f) Write a function that takes the three points returned by your function in e) and returns the class that the majority of points have (break ties with a deterministic default class of your choosing). Print the class assigned to this new point by your function."
   ]
  },
  {
   "cell_type": "code",
   "execution_count": 20,
   "metadata": {},
   "outputs": [
    {
     "name": "stdout",
     "output_type": "stream",
     "text": [
      "1\n"
     ]
    }
   ],
   "source": [
    "def majority(points):\n",
    "    counts = {}\n",
    "    for x in points:\n",
    "        class_label = data[\"Class\"][x]\n",
    "        counts[class_label] = counts.get(class_label, 0) + 1\n",
    "    return max(counts, key=counts.get)\n",
    "\n",
    "result = majority(top3)\n",
    "print(result)\n"
   ]
  },
  {
   "cell_type": "markdown",
   "metadata": {},
   "source": [
    "g) Re-using the functions from e) and f), you should be able to assign a class to any new point. In this exercise we will implement Leave-one-out cross validiation in order to evaluate the performance of our model.\n",
    "\n",
    "For each point in the dataset:\n",
    "\n",
    "- consider that point as your test set and the rest of the data as your training set\n",
    "- classify that point using the training set\n",
    "- keep track of whether you were correct with the use of a counter\n",
    "\n",
    "Once you've iterated through the entire dataset, divide the counter by the number of points in the dataset to report an overall testing accuracy."
   ]
  },
  {
   "cell_type": "code",
   "execution_count": 21,
   "metadata": {},
   "outputs": [
    {
     "name": "stdout",
     "output_type": "stream",
     "text": [
      "overall accuracy = 0.6\n"
     ]
    }
   ],
   "source": [
    "points = list(zip(data[\"Attribute A\"], data[\"Attribute B\"]))\n",
    "accurate_predictions = sum(\n",
    "    1 for i in range(len(points)) if majority(n_closest_to(points[i], points[:i] + points[i + 1:])) == data[\"Class\"][i]\n",
    ")\n",
    "accuracy = accurate_predictions / len(points)\n",
    "print(\"overall accuracy =\", accuracy)"
   ]
  },
  {
   "cell_type": "code",
   "execution_count": null,
   "metadata": {},
   "outputs": [],
   "source": []
  },
  {
   "cell_type": "code",
   "execution_count": null,
   "metadata": {},
   "outputs": [],
   "source": []
  },
  {
   "cell_type": "code",
   "execution_count": null,
   "metadata": {},
   "outputs": [],
   "source": []
  },
  {
   "cell_type": "code",
   "execution_count": null,
   "metadata": {},
   "outputs": [],
   "source": []
  }
 ],
 "metadata": {
  "interpreter": {
   "hash": "76ca05dc3ea24b2e3b98cdb7774adfbb40773424bf5109b477fd793f623715af"
  },
  "kernelspec": {
   "display_name": "Python 3",
   "language": "python",
   "name": "python3"
  },
  "language_info": {
   "codemirror_mode": {
    "name": "ipython",
    "version": 3
   },
   "file_extension": ".py",
   "mimetype": "text/x-python",
   "name": "python",
   "nbconvert_exporter": "python",
   "pygments_lexer": "ipython3",
   "version": "3.8.3"
  }
 },
 "nbformat": 4,
 "nbformat_minor": 2
}
